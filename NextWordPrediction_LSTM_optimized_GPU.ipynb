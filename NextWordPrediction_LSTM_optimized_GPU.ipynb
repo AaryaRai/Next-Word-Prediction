{
  "nbformat": 4,
  "nbformat_minor": 0,
  "metadata": {
    "kernelspec": {
      "name": "python3",
      "display_name": "Python 3"
    },
    "language_info": {
      "codemirror_mode": {
        "name": "ipython",
        "version": 3
      },
      "file_extension": ".py",
      "mimetype": "text/x-python",
      "name": "python",
      "nbconvert_exporter": "python",
      "pygments_lexer": "ipython3",
      "version": "3.6.9"
    },
    "colab": {
      "name": "NextWordPrediction_LSTM_optimized-GPU.ipynb",
      "provenance": [],
      "collapsed_sections": [],
      "machine_shape": "hm"
    },
    "accelerator": "GPU"
  },
  "cells": [
    {
      "cell_type": "code",
      "metadata": {
        "id": "4sHzEnisavC9",
        "colab_type": "code",
        "outputId": "db681b4d-62fc-4589-ceed-8b4dccf85590",
        "colab": {
          "base_uri": "https://localhost:8080/",
          "height": 34
        }
      },
      "source": [
        "2+2"
      ],
      "execution_count": 0,
      "outputs": [
        {
          "output_type": "execute_result",
          "data": {
            "text/plain": [
              "4"
            ]
          },
          "metadata": {
            "tags": []
          },
          "execution_count": 1
        }
      ]
    },
    {
      "cell_type": "code",
      "metadata": {
        "id": "TJkKaGq8avDB",
        "colab_type": "code",
        "colab": {}
      },
      "source": [
        "# from keras import backend as K\n",
        "# K.tensorflow_backend._get_available_gpus()"
      ],
      "execution_count": 0,
      "outputs": []
    },
    {
      "cell_type": "code",
      "metadata": {
        "id": "e85Gvm42avDD",
        "colab_type": "code",
        "outputId": "c91bbae9-3e64-4559-ff6e-2b73065c66f5",
        "colab": {
          "base_uri": "https://localhost:8080/",
          "height": 79
        }
      },
      "source": [
        "from __future__ import absolute_import, division, print_function, unicode_literals\n",
        "\n",
        "import tensorflow as tf\n",
        "print(\"Num GPUs Available: \", len(tf.config.experimental.list_physical_devices('GPU')))\n",
        "\n",
        "# import tensorflow as tf\n",
        "# hello = tf.constant('Hello, TensorFlow!')\n",
        "# sess = tf.Session()\n",
        "# print(sess.run(hello))"
      ],
      "execution_count": 0,
      "outputs": [
        {
          "output_type": "display_data",
          "data": {
            "text/html": [
              "<p style=\"color: red;\">\n",
              "The default version of TensorFlow in Colab will soon switch to TensorFlow 2.x.<br>\n",
              "We recommend you <a href=\"https://www.tensorflow.org/guide/migrate\" target=\"_blank\">upgrade</a> now \n",
              "or ensure your notebook will continue to use TensorFlow 1.x via the <code>%tensorflow_version 1.x</code> magic:\n",
              "<a href=\"https://colab.research.google.com/notebooks/tensorflow_version.ipynb\" target=\"_blank\">more info</a>.</p>\n"
            ],
            "text/plain": [
              "<IPython.core.display.HTML object>"
            ]
          },
          "metadata": {
            "tags": []
          }
        },
        {
          "output_type": "stream",
          "text": [
            "Num GPUs Available:  1\n"
          ],
          "name": "stdout"
        }
      ]
    },
    {
      "cell_type": "code",
      "metadata": {
        "id": "jYPh7afFavDF",
        "colab_type": "code",
        "colab": {}
      },
      "source": [
        "# gpus = tf.config.experimental.list_physical_devices('GPU')\n",
        "# if gpus:\n",
        "#     try:\n",
        "#         tf.config.experimental.set_visible_devices(gpus[0], 'GPU')\n",
        "#         logical_gpus = tf.config.experimental.list_logical_devices('GPU')\n",
        "#         print(len(gpus), \"Physical GPUs,\", len(logical_gpus), \"Logical GPU\")\n",
        "#     except RuntimeError as e:\n",
        "#         # Visible devices must be set before GPUs have been initialized\n",
        "#         print(e)"
      ],
      "execution_count": 0,
      "outputs": []
    },
    {
      "cell_type": "code",
      "metadata": {
        "id": "uDfwWDsAavDG",
        "colab_type": "code",
        "colab": {}
      },
      "source": [
        "#conda install gensim or pip install gensim\n",
        "import pandas as pd\n",
        "\n",
        "#import re\n",
        "#import nltk\n",
        "#from nltk.tokenize import word_tokenize\n",
        "#from nltk.tokenize import TweetTokenizer\n",
        "#tknzr = TweetTokenizer()\n",
        "#from nltk.corpus import stopwords\n",
        "#import itertools\n",
        "#import functools\n",
        "import gensim\n",
        "# from functools import reduce\n",
        "# nltk.download('gutenberg')\n",
        "# from nltk.corpus import gutenberg\n",
        "# from nltk.sentiment import SentimentAnalyzer\n",
        "# nltk.download('vader_lexicon')\n",
        "# import numpy as np\n",
        "# from scipy import spatial\n",
        "# import re\n",
        "# from sklearn.metrics import accuracy_score\n",
        "# from sklearn.metrics import precision_recall_fscore_support\n",
        "# from sklearn import svm\n",
        "# from sklearn.model_selection import GridSearchCV\n",
        "# from sklearn.metrics import classification_report\n",
        "# from sklearn.multiclass import OneVsRestClassifier\n",
        "# import numpy as np\n",
        "# import matplotlib.pyplot as plt\n",
        "# import seaborn as sns\n",
        "# import keras"
      ],
      "execution_count": 0,
      "outputs": []
    },
    {
      "cell_type": "code",
      "metadata": {
        "id": "-m6QMmQ4avDI",
        "colab_type": "code",
        "colab": {}
      },
      "source": [
        "import pandas as pd\n",
        "pd.set_option(\"display.max_rows\", 999)\n",
        "pd.set_option('max_colwidth',100)\n",
        "import numpy as np\n",
        "from IPython.display import display"
      ],
      "execution_count": 0,
      "outputs": []
    },
    {
      "cell_type": "code",
      "metadata": {
        "id": "MOECHzxZavDJ",
        "colab_type": "code",
        "colab": {}
      },
      "source": [
        "# filepath = \"./emailData/emails.csv\"\n",
        "# # Read the data into a pandas dataframe called emails\n",
        "# emails = pd.read_csv(filepath)\n",
        "# headers = [header for header in emails.columns]\n",
        "# print(\"Successfully loaded {} rows and {} columns!\".format(emails.shape[0], emails.shape[1]))\n",
        "# print(display(emails.head()))"
      ],
      "execution_count": 0,
      "outputs": []
    },
    {
      "cell_type": "code",
      "metadata": {
        "id": "T0x_8emObooJ",
        "colab_type": "code",
        "outputId": "4e69a087-e616-4d7c-ddd8-065df4b963de",
        "colab": {
          "base_uri": "https://localhost:8080/",
          "height": 34
        }
      },
      "source": [
        "from google.colab import drive\n",
        "drive.mount('/content/drive')"
      ],
      "execution_count": 0,
      "outputs": [
        {
          "output_type": "stream",
          "text": [
            "Drive already mounted at /content/drive; to attempt to forcibly remount, call drive.mount(\"/content/drive\", force_remount=True).\n"
          ],
          "name": "stdout"
        }
      ]
    },
    {
      "cell_type": "code",
      "metadata": {
        "id": "7kDhluCNavDL",
        "colab_type": "code",
        "colab": {}
      },
      "source": [
        "# import keras"
      ],
      "execution_count": 0,
      "outputs": []
    },
    {
      "cell_type": "code",
      "metadata": {
        "id": "Hi91RHWhavDN",
        "colab_type": "code",
        "colab": {}
      },
      "source": [
        "#print(emails.loc[0][\"message\"])"
      ],
      "execution_count": 0,
      "outputs": []
    },
    {
      "cell_type": "code",
      "metadata": {
        "id": "ko5rOAIsavDO",
        "colab_type": "code",
        "colab": {}
      },
      "source": [
        "# import email\n",
        "\n",
        "# def insert_value(dictionary, key, value):\n",
        "#     if key in dictionary:\n",
        "#         values = dictionary.get(key)\n",
        "#         values.append(value)\n",
        "#         dictionary[key] = values\n",
        "#     else:\n",
        "#         dictionary[key] = [value]\n",
        "#     return dictionary\n",
        "\n",
        "# def get_headers(df, header_names):\n",
        "#     headers = {}\n",
        "#     messages = df[\"message\"]\n",
        "#     for message in messages:\n",
        "#         e = email.message_from_string(message)\n",
        "#         for item in header_names:\n",
        "#             header = e.get(item)\n",
        "#             insert_value(dictionary = headers, key = item, value = header) \n",
        "#     print(\"Successfully retrieved header information!\")\n",
        "#     return headers\n",
        "# header_names = [\"Date\", \"Subject\", \"X-Folder\", \"X-From\", \"X-To\"]    \n",
        "# headers = get_headers(emails, header_names)"
      ],
      "execution_count": 0,
      "outputs": []
    },
    {
      "cell_type": "code",
      "metadata": {
        "id": "_K7T8fuIavDQ",
        "colab_type": "code",
        "colab": {}
      },
      "source": [
        "# def get_messages(df):\n",
        "#     messages = []\n",
        "#     for item in df[\"message\"]:\n",
        "#         # Return a message object structure from a string\n",
        "#         e = email.message_from_string(item)    \n",
        "#         # get message body  \n",
        "#         message_body = e.get_payload()\n",
        "#         message_body = message_body.lower()\n",
        "#         messages.append(message_body)\n",
        "#     print(\"Successfully retrieved message body from e-mails!\")\n",
        "#     return messages\n",
        "# msg_body = get_messages(emails)\n",
        "# emails[\"Message-Body\"] = msg_body"
      ],
      "execution_count": 0,
      "outputs": []
    },
    {
      "cell_type": "code",
      "metadata": {
        "id": "CyiNPLgsavDR",
        "colab_type": "code",
        "colab": {}
      },
      "source": [
        "# emails[\"Message-Body\"].head(10)"
      ],
      "execution_count": 0,
      "outputs": []
    },
    {
      "cell_type": "code",
      "metadata": {
        "id": "UspqjNmVdi2O",
        "colab_type": "code",
        "outputId": "5bb447eb-f233-496d-ab60-ba7619e46b01",
        "colab": {
          "base_uri": "https://localhost:8080/",
          "height": 134
        }
      },
      "source": [
        "!wget -P /root/input/ -c \"https://s3.amazonaws.com/dl4j-distribution/GoogleNews-vectors-negative300.bin.gz\""
      ],
      "execution_count": 0,
      "outputs": [
        {
          "output_type": "stream",
          "text": [
            "--2019-11-30 19:29:57--  https://s3.amazonaws.com/dl4j-distribution/GoogleNews-vectors-negative300.bin.gz\n",
            "Resolving s3.amazonaws.com (s3.amazonaws.com)... 52.216.164.189\n",
            "Connecting to s3.amazonaws.com (s3.amazonaws.com)|52.216.164.189|:443... connected.\n",
            "HTTP request sent, awaiting response... 416 Requested Range Not Satisfiable\n",
            "\n",
            "    The file is already fully retrieved; nothing to do.\n",
            "\n"
          ],
          "name": "stdout"
        }
      ]
    },
    {
      "cell_type": "code",
      "metadata": {
        "id": "ZmLjXK6javDT",
        "colab_type": "code",
        "outputId": "8bbaf51f-d39b-4a5e-a6c3-f2cce45dbc8f",
        "colab": {
          "base_uri": "https://localhost:8080/",
          "height": 70
        }
      },
      "source": [
        "word2vec = gensim.models.KeyedVectors.load_word2vec_format('/root/input/GoogleNews-vectors-negative300.bin.gz', binary=True)"
      ],
      "execution_count": 0,
      "outputs": [
        {
          "output_type": "stream",
          "text": [
            "/usr/local/lib/python3.6/dist-packages/smart_open/smart_open_lib.py:402: UserWarning: This function is deprecated, use smart_open.open instead. See the migration notes for details: https://github.com/RaRe-Technologies/smart_open/blob/master/README.rst#migrating-to-the-new-open-function\n",
            "  'See the migration notes for details: %s' % _MIGRATION_NOTES_URL\n"
          ],
          "name": "stderr"
        }
      ]
    },
    {
      "cell_type": "code",
      "metadata": {
        "id": "1RaJT-vNavDW",
        "colab_type": "code",
        "colab": {}
      },
      "source": [
        "import tensorflow as tf"
      ],
      "execution_count": 0,
      "outputs": []
    },
    {
      "cell_type": "code",
      "metadata": {
        "id": "O6_XQQKYavDY",
        "colab_type": "code",
        "colab": {}
      },
      "source": [
        "# from tensorflow.keras import backend as K\n",
        "# K._get_available_gpus()"
      ],
      "execution_count": 0,
      "outputs": []
    },
    {
      "cell_type": "code",
      "metadata": {
        "id": "qTIMEzKlavDZ",
        "colab_type": "code",
        "colab": {}
      },
      "source": [
        "vocab = set()"
      ],
      "execution_count": 0,
      "outputs": []
    },
    {
      "cell_type": "code",
      "metadata": {
        "id": "5FhMmhnHavDb",
        "colab_type": "code",
        "colab": {}
      },
      "source": [
        "# def processText(text):\n",
        "    \n",
        "#     sentences = nltk.sent_tokenize(text)\n",
        "#     tokens = []\n",
        "        \n",
        "#     for sentence in sentences:\n",
        "        \n",
        "#         #Remove URL\n",
        "#         sentence = re.sub(r\"http\\S+\", \"\", sentence)\n",
        "        \n",
        "#         #words = nltk.word_tokenize(sentence)\n",
        "#         words = tknzr.tokenize(sentence)\n",
        "#         #Converting to LowerCase\n",
        "#         words = map(str.lower, words)\n",
        "    \n",
        "#         words = map(lambda x: re.sub(r'[^a-zA-Z]', \"\", x), words)\n",
        "        \n",
        "#         #punctuations = '\"#$%&\\'()*+,-/:;<=>@[\\\\]^_`{|}~.?!'\n",
        "#         #words = map(lambda x: x.translate(str.maketrans('', '', punctuations)), words)\n",
        "        \n",
        "#         # Remove empty strings\n",
        "#         words = filter(lambda x: len(x) > 0, words)\n",
        "        \n",
        "#         #Remove words which are not part of word2vec vocab\n",
        "#         words = filter(lambda x: x in word2vec.vocab, words)\n",
        "        \n",
        "#         words = list(words)\n",
        "        \n",
        "#         #Add the words to the vocabulary\n",
        "#         vocab.update(words)\n",
        "        \n",
        "#         # Adding the preprocessed words to the document\n",
        "#         tokens = tokens + words\n",
        "        \n",
        "#     return tokens"
      ],
      "execution_count": 0,
      "outputs": []
    },
    {
      "cell_type": "code",
      "metadata": {
        "id": "phEJYvGVavDc",
        "colab_type": "code",
        "colab": {}
      },
      "source": [
        "# emails['message_tokens'] = emails['Message-Body'].apply(lambda x: processText(x))"
      ],
      "execution_count": 0,
      "outputs": []
    },
    {
      "cell_type": "code",
      "metadata": {
        "id": "v_ecConsavDe",
        "colab_type": "code",
        "colab": {}
      },
      "source": [
        "# emails['message_tokens'].head()"
      ],
      "execution_count": 0,
      "outputs": []
    },
    {
      "cell_type": "code",
      "metadata": {
        "id": "1LvFYCQ6avDf",
        "colab_type": "code",
        "colab": {}
      },
      "source": [
        "# emails.to_pickle('./emailDf')"
      ],
      "execution_count": 0,
      "outputs": []
    },
    {
      "cell_type": "code",
      "metadata": {
        "id": "hj0wTAYwavDi",
        "colab_type": "code",
        "colab": {}
      },
      "source": [
        "#emailsdf['message_tokens'].to_pickle('./emailTokens')"
      ],
      "execution_count": 0,
      "outputs": []
    },
    {
      "cell_type": "code",
      "metadata": {
        "id": "covpTTHjavDk",
        "colab_type": "code",
        "colab": {}
      },
      "source": [
        "#emailsdf = pd.read_pickle('./emailDf')"
      ],
      "execution_count": 0,
      "outputs": []
    },
    {
      "cell_type": "code",
      "metadata": {
        "id": "lQbE7NMqavDn",
        "colab_type": "code",
        "colab": {}
      },
      "source": [
        "from tensorflow.keras import backend as K\n",
        "#from keras import backend as K\n",
        "def perplexity(y_true, y_pred):\n",
        "    cross_entropy = K.categorical_crossentropy(y_true, y_pred)\n",
        "    return K.pow(2.0, cross_entropy)"
      ],
      "execution_count": 0,
      "outputs": []
    },
    {
      "cell_type": "code",
      "metadata": {
        "id": "A0FRC5IzavDp",
        "colab_type": "code",
        "colab": {}
      },
      "source": [
        "emailTokens = pd.read_pickle('drive/My Drive/Next Word Prediction/emailTokens')"
      ],
      "execution_count": 0,
      "outputs": []
    },
    {
      "cell_type": "code",
      "metadata": {
        "id": "Bl0JtQawavDq",
        "colab_type": "code",
        "outputId": "a1fb6e30-d88d-4ac1-e3e1-88ba8ad3ffb6",
        "colab": {
          "base_uri": "https://localhost:8080/",
          "height": 118
        }
      },
      "source": [
        "emailTokens.head()"
      ],
      "execution_count": 0,
      "outputs": [
        {
          "output_type": "execute_result",
          "data": {
            "text/plain": [
              "0                                                                              [here, is, our, forecast]\n",
              "1    [traveling, have, business, meeting, takes, the, fun, out, the, trip, especially, if, you, have,...\n",
              "2                                                                            [test, successful, way, go]\n",
              "3    [randy, can, you, send, me, schedule, the, salary, level, everyone, in, the, scheduling, group, ...\n",
              "4                                                                        [lets, shoot, for, tuesday, at]\n",
              "Name: message_tokens, dtype: object"
            ]
          },
          "metadata": {
            "tags": []
          },
          "execution_count": 27
        }
      ]
    },
    {
      "cell_type": "code",
      "metadata": {
        "id": "C2vdiIaFavDs",
        "colab_type": "code",
        "colab": {}
      },
      "source": [
        "#emailsdf['message_tokens'].head()"
      ],
      "execution_count": 0,
      "outputs": []
    },
    {
      "cell_type": "code",
      "metadata": {
        "id": "jZXASh_RavDt",
        "colab_type": "code",
        "colab": {}
      },
      "source": [
        "import ast"
      ],
      "execution_count": 0,
      "outputs": []
    },
    {
      "cell_type": "code",
      "metadata": {
        "id": "okih0LO1avDv",
        "colab_type": "code",
        "colab": {}
      },
      "source": [
        "# with open('vocab.txt','w') as f:\n",
        "#     f.write(str(vocab))"
      ],
      "execution_count": 0,
      "outputs": []
    },
    {
      "cell_type": "code",
      "metadata": {
        "id": "kV-83P7HavDw",
        "colab_type": "code",
        "colab": {}
      },
      "source": [
        "with open('drive/My Drive/Next Word Prediction/vocab.txt','r') as f:\n",
        "    vocab = ast.literal_eval(f.read())"
      ],
      "execution_count": 0,
      "outputs": []
    },
    {
      "cell_type": "code",
      "metadata": {
        "id": "hwE4NIFpavDy",
        "colab_type": "code",
        "colab": {}
      },
      "source": [
        "#Convert vocab set to a dictionary\n",
        "word_map = dict()\n",
        "inverse_word_map = dict()\n",
        "i = 1\n",
        "for x in vocab:\n",
        "    word_map[x] = i\n",
        "    inverse_word_map[i] = x\n",
        "    i+=1"
      ],
      "execution_count": 0,
      "outputs": []
    },
    {
      "cell_type": "code",
      "metadata": {
        "id": "TV0QmiFdavDz",
        "colab_type": "code",
        "colab": {}
      },
      "source": [
        ""
      ],
      "execution_count": 0,
      "outputs": []
    },
    {
      "cell_type": "code",
      "metadata": {
        "id": "KNQTQL18avD1",
        "colab_type": "code",
        "colab": {}
      },
      "source": [
        "word_map[''] = 0\n",
        "inverse_word_map[0] = ''"
      ],
      "execution_count": 0,
      "outputs": []
    },
    {
      "cell_type": "code",
      "metadata": {
        "id": "lbhSrTRNavD4",
        "colab_type": "code",
        "colab": {}
      },
      "source": [
        "vocab.add('')"
      ],
      "execution_count": 0,
      "outputs": []
    },
    {
      "cell_type": "code",
      "metadata": {
        "id": "Xa7E96PoavD5",
        "colab_type": "code",
        "colab": {}
      },
      "source": [
        "seq_len = 5"
      ],
      "execution_count": 0,
      "outputs": []
    },
    {
      "cell_type": "code",
      "metadata": {
        "id": "y_2tIoE4avD6",
        "colab_type": "code",
        "colab": {}
      },
      "source": [
        "import copy"
      ],
      "execution_count": 0,
      "outputs": []
    },
    {
      "cell_type": "code",
      "metadata": {
        "id": "UXw9IPbeavD8",
        "colab_type": "code",
        "colab": {}
      },
      "source": [
        ""
      ],
      "execution_count": 0,
      "outputs": []
    },
    {
      "cell_type": "code",
      "metadata": {
        "id": "C6oWtTNGavD9",
        "colab_type": "code",
        "colab": {}
      },
      "source": [
        "#test = test.iloc[1:1000]"
      ],
      "execution_count": 0,
      "outputs": []
    },
    {
      "cell_type": "code",
      "metadata": {
        "id": "WHuTJ4eYavD-",
        "colab_type": "code",
        "colab": {}
      },
      "source": [
        ""
      ],
      "execution_count": 0,
      "outputs": []
    },
    {
      "cell_type": "code",
      "metadata": {
        "id": "cHajiTVdavEA",
        "colab_type": "code",
        "colab": {}
      },
      "source": [
        "from tqdm import tqdm"
      ],
      "execution_count": 0,
      "outputs": []
    },
    {
      "cell_type": "code",
      "metadata": {
        "id": "6bMDspbdavEC",
        "colab_type": "code",
        "colab": {}
      },
      "source": [
        "def makeSequences(test):\n",
        "    sequences = list()\n",
        "    number_sequence = list()\n",
        "    w2v_sequence = list()\n",
        "\n",
        "    for sentence in test:\n",
        "        for i in range(seq_len):\n",
        "            sentence.insert(0,'')\n",
        "        for i in range(seq_len,len(sentence)):\n",
        "            sequence = sentence[i-seq_len:i+1]\n",
        "            sequences.append(sequence)\n",
        "            seq_i = list()\n",
        "            seq_w2v = list()\n",
        "            for word in sequence:\n",
        "                seq_i.append(word_map[word])\n",
        "                if(word == \"\"):\n",
        "                    seq_w2v.append(np.zeros(300))\n",
        "                else:\n",
        "                    seq_w2v.append(word2vec[word])\n",
        "            number_sequence.append(seq_i)\n",
        "            w2v_sequence.append(seq_w2v)\n",
        "    return (sequences,number_sequence,w2v_sequence)"
      ],
      "execution_count": 0,
      "outputs": []
    },
    {
      "cell_type": "code",
      "metadata": {
        "id": "YU4_TP1gavEE",
        "colab_type": "code",
        "colab": {}
      },
      "source": [
        "def makeSequencestest(test):\n",
        "    sequences = list()\n",
        "    number_sequence = list()\n",
        "    w2v_sequence = list()\n",
        "    sentences = list()\n",
        "    for sentence in test:\n",
        "        for i in range(seq_len):\n",
        "            sentence.insert(0,'')\n",
        "        for i in range(seq_len,len(sentence)):\n",
        "            sequence = sentence[i-seq_len:i+1]\n",
        "            sequences.append(sequence)\n",
        "            seq_i = list()\n",
        "            seq_w2v = list()\n",
        "            sen = list()\n",
        "            for word in sequence:\n",
        "                seq_i.append(word_map[word])\n",
        "                if(word == \"\"):\n",
        "                    seq_w2v.append(np.zeros(300))\n",
        "                else:\n",
        "                    seq_w2v.append(word2vec[word])\n",
        "                sen.append(word)\n",
        "            number_sequence.append(seq_i)\n",
        "            w2v_sequence.append(seq_w2v)\n",
        "            sentences.append(sen)\n",
        "    return (sequences,number_sequence,w2v_sequence,sentences)"
      ],
      "execution_count": 0,
      "outputs": []
    },
    {
      "cell_type": "code",
      "metadata": {
        "id": "sIDYZOJjavEF",
        "colab_type": "code",
        "colab": {}
      },
      "source": [
        "emailTokens = [s for s in emailTokens if len(s) <= 50 and len(s)>1]"
      ],
      "execution_count": 0,
      "outputs": []
    },
    {
      "cell_type": "code",
      "metadata": {
        "id": "_Q6sEjiWavEG",
        "colab_type": "code",
        "outputId": "80e2876b-0778-4b1f-924b-af8b9c970b5a",
        "colab": {
          "base_uri": "https://localhost:8080/",
          "height": 34
        }
      },
      "source": [
        "len(emailTokens)"
      ],
      "execution_count": 0,
      "outputs": [
        {
          "output_type": "execute_result",
          "data": {
            "text/plain": [
              "164559"
            ]
          },
          "metadata": {
            "tags": []
          },
          "execution_count": 41
        }
      ]
    },
    {
      "cell_type": "code",
      "metadata": {
        "id": "MwfiELkJavEI",
        "colab_type": "code",
        "colab": {}
      },
      "source": [
        "train = emailTokens[0:int(0.5*len(emailTokens))]\n",
        "val = emailTokens[int(0.5*len(emailTokens)):int(0.75*len(emailTokens))]\n",
        "test = emailTokens[int(0.75*len(emailTokens)):]"
      ],
      "execution_count": 0,
      "outputs": []
    },
    {
      "cell_type": "code",
      "metadata": {
        "id": "-lNf4gvTavEJ",
        "colab_type": "code",
        "colab": {}
      },
      "source": [
        "#test[0:2]"
      ],
      "execution_count": 0,
      "outputs": []
    },
    {
      "cell_type": "code",
      "metadata": {
        "id": "xgK7GH88avEL",
        "colab_type": "code",
        "outputId": "1abbf1a3-6fe7-4a35-ea7c-a527fa753078",
        "colab": {
          "base_uri": "https://localhost:8080/",
          "height": 34
        }
      },
      "source": [
        "len(train)"
      ],
      "execution_count": 0,
      "outputs": [
        {
          "output_type": "execute_result",
          "data": {
            "text/plain": [
              "82279"
            ]
          },
          "metadata": {
            "tags": []
          },
          "execution_count": 46
        }
      ]
    },
    {
      "cell_type": "code",
      "metadata": {
        "id": "sgoPmYNWavEN",
        "colab_type": "code",
        "outputId": "7732e0d4-bd96-41a4-bc54-3d7f2b2e9fc5",
        "colab": {
          "base_uri": "https://localhost:8080/",
          "height": 34
        }
      },
      "source": [
        "len(val)"
      ],
      "execution_count": 0,
      "outputs": [
        {
          "output_type": "execute_result",
          "data": {
            "text/plain": [
              "41140"
            ]
          },
          "metadata": {
            "tags": []
          },
          "execution_count": 47
        }
      ]
    },
    {
      "cell_type": "code",
      "metadata": {
        "id": "pN23o5WiavEQ",
        "colab_type": "code",
        "outputId": "4e1cc75b-ede3-439b-db0e-159237250b22",
        "colab": {
          "base_uri": "https://localhost:8080/",
          "height": 34
        }
      },
      "source": [
        "len(test)"
      ],
      "execution_count": 0,
      "outputs": [
        {
          "output_type": "execute_result",
          "data": {
            "text/plain": [
              "41140"
            ]
          },
          "metadata": {
            "tags": []
          },
          "execution_count": 48
        }
      ]
    },
    {
      "cell_type": "code",
      "metadata": {
        "id": "XRumlwgNavES",
        "colab_type": "code",
        "colab": {}
      },
      "source": [
        "from numpy import array\n",
        "#from keras.preprocessing.text import Tokenizer\n",
        "from tensorflow.keras.utils import to_categorical\n",
        "#from keras.utils import to_categorical\n",
        "#from keras.preprocessing.sequence import pad_sequences\n",
        "from tensorflow.keras.models import Sequential\n",
        "#from keras.models import Sequential\n",
        "from tensorflow.keras.layers import Dense\n",
        "#from keras.layers import Dense,CuDNNLSTM\n",
        "#from tensorflow.keras.layers import LSTM\n",
        "from tensorflow.compat.v1.keras.layers import CuDNNLSTM\n",
        "#from keras.layers import Embedding"
      ],
      "execution_count": 0,
      "outputs": []
    },
    {
      "cell_type": "code",
      "metadata": {
        "id": "2ZwJbbgkavET",
        "colab_type": "code",
        "outputId": "7c3bec45-e9ba-4ae5-f1a9-392a72acf0bc",
        "colab": {
          "base_uri": "https://localhost:8080/",
          "height": 34
        }
      },
      "source": [
        "len(vocab)"
      ],
      "execution_count": 0,
      "outputs": [
        {
          "output_type": "execute_result",
          "data": {
            "text/plain": [
              "77826"
            ]
          },
          "metadata": {
            "tags": []
          },
          "execution_count": 50
        }
      ]
    },
    {
      "cell_type": "code",
      "metadata": {
        "id": "F597qCRdavEW",
        "colab_type": "code",
        "colab": {}
      },
      "source": [
        ""
      ],
      "execution_count": 0,
      "outputs": []
    },
    {
      "cell_type": "code",
      "metadata": {
        "id": "ioWcbSdwavEX",
        "colab_type": "code",
        "colab": {}
      },
      "source": [
        "def sequence_x_y(data):\n",
        "    (sequences,number_sequence,w2v_sequence) = makeSequences(data)\n",
        "    w2v_X = list()\n",
        "    #w2v_y = list()\n",
        "    y = list()\n",
        "    for i in range(len(w2v_sequence)):\n",
        "        w2v_X.append(w2v_sequence[i][:-1])\n",
        "        #w2v_y.append(w2v_sequence[i][-1])\n",
        "        y.append(to_categorical(number_sequence[i][-1], num_classes=vocab_size))\n",
        "    return ([np.array(w2v_X).reshape((-1, seq_len, 300))],[np.array(y)])"
      ],
      "execution_count": 0,
      "outputs": []
    },
    {
      "cell_type": "code",
      "metadata": {
        "id": "3Ve5CuM4avEZ",
        "colab_type": "code",
        "colab": {}
      },
      "source": [
        "def sequence_x_ytest(data):\n",
        "    (sequences,number_sequence,w2v_sequence,sentences) = makeSequencestest(data)\n",
        "    w2v_X = list()\n",
        "    #w2v_y = list()\n",
        "    y = list()\n",
        "    for i in range(len(w2v_sequence)):\n",
        "        w2v_X.append(w2v_sequence[i][:-1])\n",
        "        #w2v_y.append(w2v_sequence[i][-1])\n",
        "        y.append(to_categorical(number_sequence[i][-1], num_classes=vocab_size))\n",
        "    return ([np.array(w2v_X).reshape((-1, seq_len, 300))],[np.array(y)],[sentences])"
      ],
      "execution_count": 0,
      "outputs": []
    },
    {
      "cell_type": "code",
      "metadata": {
        "id": "4ZVb0rf0avEb",
        "colab_type": "code",
        "colab": {}
      },
      "source": [
        ""
      ],
      "execution_count": 0,
      "outputs": []
    },
    {
      "cell_type": "code",
      "metadata": {
        "id": "Ywwm8PgNavEc",
        "colab_type": "code",
        "colab": {}
      },
      "source": [
        ""
      ],
      "execution_count": 0,
      "outputs": []
    },
    {
      "cell_type": "code",
      "metadata": {
        "id": "q2uvXwfqavEc",
        "colab_type": "code",
        "colab": {}
      },
      "source": [
        ""
      ],
      "execution_count": 0,
      "outputs": []
    },
    {
      "cell_type": "code",
      "metadata": {
        "id": "lJs8z-BuavEd",
        "colab_type": "code",
        "colab": {}
      },
      "source": [
        ""
      ],
      "execution_count": 0,
      "outputs": []
    },
    {
      "cell_type": "code",
      "metadata": {
        "id": "XYprOyk3avEe",
        "colab_type": "code",
        "colab": {}
      },
      "source": [
        ""
      ],
      "execution_count": 0,
      "outputs": []
    },
    {
      "cell_type": "code",
      "metadata": {
        "id": "ahPetqzuavEf",
        "colab_type": "code",
        "colab": {}
      },
      "source": [
        ""
      ],
      "execution_count": 0,
      "outputs": []
    },
    {
      "cell_type": "code",
      "metadata": {
        "id": "HTODJkwPavEg",
        "colab_type": "code",
        "colab": {}
      },
      "source": [
        ""
      ],
      "execution_count": 0,
      "outputs": []
    },
    {
      "cell_type": "code",
      "metadata": {
        "id": "zib2Je0WavEh",
        "colab_type": "code",
        "outputId": "579e8af6-2031-4d83-fdba-bbda92891337",
        "colab": {
          "base_uri": "https://localhost:8080/",
          "height": 34
        }
      },
      "source": [
        "vocab_size = len(vocab)\n",
        "vocab_size"
      ],
      "execution_count": 0,
      "outputs": [
        {
          "output_type": "execute_result",
          "data": {
            "text/plain": [
              "77826"
            ]
          },
          "metadata": {
            "tags": []
          },
          "execution_count": 52
        }
      ]
    },
    {
      "cell_type": "code",
      "metadata": {
        "id": "JteAoSp6avEi",
        "colab_type": "code",
        "colab": {}
      },
      "source": [
        "sq = array([[ 0,  0,  0,  0,  0,  2,  1],\n",
        "       [ 0,  0,  0,  0,  2,  1,  3],\n",
        "       [ 0,  0,  0,  2,  1,  3,  4],\n",
        "       [ 0,  0,  2,  1,  3,  4,  5],\n",
        "       [ 0,  2,  1,  3,  4,  5,  6],\n",
        "       [ 2,  1,  3,  4,  5,  6,  7],\n",
        "       [ 0,  0,  0,  0,  0,  8,  9],\n",
        "       [ 0,  0,  0,  0,  8,  9, 10],\n",
        "       [ 0,  0,  0,  8,  9, 10, 11],\n",
        "       [ 0,  0,  8,  9, 10, 11, 12],\n",
        "       [ 0,  8,  9, 10, 11, 12, 13],\n",
        "       [ 0,  0,  0,  0,  0,  2, 14],\n",
        "       [ 0,  0,  0,  0,  2, 14, 15],\n",
        "       [ 0,  0,  0,  2, 14, 15,  1],\n",
        "       [ 0,  0,  2, 14, 15,  1, 16],\n",
        "       [ 0,  2, 14, 15,  1, 16, 17],\n",
        "       [ 2, 14, 15,  1, 16, 17, 18],\n",
        "       [ 0,  0,  0,  0,  0,  1,  3],\n",
        "       [ 0,  0,  0,  0,  1,  3, 19],\n",
        "       [ 0,  0,  0,  1,  3, 19, 20],\n",
        "       [ 0,  0,  1,  3, 19, 20, 21]])"
      ],
      "execution_count": 0,
      "outputs": []
    },
    {
      "cell_type": "code",
      "metadata": {
        "id": "E1wu8J6havEl",
        "colab_type": "code",
        "outputId": "179002a7-5ab9-489f-b146-b673cd62ebec",
        "colab": {
          "base_uri": "https://localhost:8080/",
          "height": 34
        }
      },
      "source": [
        "sq[:,-1].shape"
      ],
      "execution_count": 0,
      "outputs": [
        {
          "output_type": "execute_result",
          "data": {
            "text/plain": [
              "(21,)"
            ]
          },
          "metadata": {
            "tags": []
          },
          "execution_count": 54
        }
      ]
    },
    {
      "cell_type": "code",
      "metadata": {
        "id": "34MFUyvqavEm",
        "colab_type": "code",
        "outputId": "8d6680fa-7fc5-4eab-fa2f-e6e2eccebf0f",
        "colab": {
          "base_uri": "https://localhost:8080/",
          "height": 101
        }
      },
      "source": [
        "to_categorical([0,1,2,3,4], num_classes=5)"
      ],
      "execution_count": 0,
      "outputs": [
        {
          "output_type": "execute_result",
          "data": {
            "text/plain": [
              "array([[1., 0., 0., 0., 0.],\n",
              "       [0., 1., 0., 0., 0.],\n",
              "       [0., 0., 1., 0., 0.],\n",
              "       [0., 0., 0., 1., 0.],\n",
              "       [0., 0., 0., 0., 1.]], dtype=float32)"
            ]
          },
          "metadata": {
            "tags": []
          },
          "execution_count": 55
        }
      ]
    },
    {
      "cell_type": "code",
      "metadata": {
        "id": "CwO_M0siavEn",
        "colab_type": "code",
        "colab": {}
      },
      "source": [
        "#temp = copy.deepcopy(train.tolist())"
      ],
      "execution_count": 0,
      "outputs": []
    },
    {
      "cell_type": "markdown",
      "metadata": {
        "id": "g5AS-Z1PavEp",
        "colab_type": "text"
      },
      "source": [
        "## Checkout the below line - to debug"
      ]
    },
    {
      "cell_type": "code",
      "metadata": {
        "id": "R1tv5rTDavEq",
        "colab_type": "code",
        "colab": {}
      },
      "source": [
        "# import os\n",
        "# import psutil\n",
        "# process = psutil.Process(os.getpid())\n",
        "# print(process.memory_info().rss)  # in bytes "
      ],
      "execution_count": 0,
      "outputs": []
    },
    {
      "cell_type": "code",
      "metadata": {
        "scrolled": true,
        "id": "8XDTd318avEr",
        "colab_type": "code",
        "colab": {}
      },
      "source": [
        "# while(True):\n",
        "#     print(process.memory_info().rss)  # in bytes \n",
        "#     temp = next(train_generator.generate())\n",
        "#     print(process.memory_info().rss)  # in bytes "
      ],
      "execution_count": 0,
      "outputs": []
    },
    {
      "cell_type": "markdown",
      "metadata": {
        "id": "vM4GSbiFavEs",
        "colab_type": "text"
      },
      "source": [
        "### len(train)/batch_size"
      ]
    },
    {
      "cell_type": "code",
      "metadata": {
        "id": "QCIvjGasavEs",
        "colab_type": "code",
        "colab": {}
      },
      "source": [
        "# import tensorflow as tf\n",
        "# tf.compat.v1.disable_eager_execution()\n",
        "# tf.test.is_gpu_available( cuda_only=False, min_cuda_compute_capability=None )"
      ],
      "execution_count": 0,
      "outputs": []
    },
    {
      "cell_type": "code",
      "metadata": {
        "id": "K6fGJ8E5avEt",
        "colab_type": "code",
        "colab": {}
      },
      "source": [
        "batch_size = 128\n",
        "val_batch_size = 16"
      ],
      "execution_count": 0,
      "outputs": []
    },
    {
      "cell_type": "code",
      "metadata": {
        "id": "j3X3cn2bavEv",
        "colab_type": "code",
        "colab": {}
      },
      "source": [
        "import gc"
      ],
      "execution_count": 0,
      "outputs": []
    },
    {
      "cell_type": "code",
      "metadata": {
        "id": "v08Yrn2mavEx",
        "colab_type": "code",
        "colab": {}
      },
      "source": [
        "from tensorflow.keras.utils import Sequence\n",
        "#from keras.utils import Sequence"
      ],
      "execution_count": 0,
      "outputs": []
    },
    {
      "cell_type": "code",
      "metadata": {
        "id": "sRfB0cbDavEy",
        "colab_type": "code",
        "colab": {}
      },
      "source": [
        "class KerasBatchGenerator(Sequence):\n",
        "\n",
        "    def __init__(self, data,vocab_size,batch_size):\n",
        "        self.data = data\n",
        "        self.vocab_size = vocab_size\n",
        "        self.batch_size = batch_size\n",
        "        self.current_idx = 0\n",
        "        self.batchNum=1\n",
        "        self.w2v_X = None\n",
        "        self.y = None\n",
        "        self.content = None\n",
        "    def generate(self):\n",
        "        while True:\n",
        "            #gc.collect()\n",
        "            #if(self.batchNum==1):\n",
        "                #print(\"1st Batch\")\n",
        "            self.w2v_X = None\n",
        "            self.y = None\n",
        "            self.content = None\n",
        "            self.batchNum+=1\n",
        "            if(self.current_idx+self.batch_size >= len(self.data)):\n",
        "                #print(\"Data from\", str(self.current_idx),\"till end\")\n",
        "                self.content = copy.deepcopy(self.data[self.current_idx:])\n",
        "                self.batchNum = 1\n",
        "                self.current_idx = 0\n",
        "                gc.collect()\n",
        "                #print(\"Epoch Completed\",str(self.batchNum))\n",
        "            else:\n",
        "                #print(\"Data from\", str(self.current_idx),\"to\",str(self.current_idx+self.batch_size))\n",
        "                self.content = copy.deepcopy(self.data[self.current_idx:self.current_idx+self.batch_size])\n",
        "                self.current_idx+=self.batch_size\n",
        "            \n",
        "            (self.w2v_X,self.y) = sequence_x_y(self.content)\n",
        "            yield (self.w2v_X.pop(), self.y.pop())"
      ],
      "execution_count": 0,
      "outputs": []
    },
    {
      "cell_type": "code",
      "metadata": {
        "id": "hrJxiZXnruAg",
        "colab_type": "code",
        "colab": {}
      },
      "source": [
        "class KerastestBatchGenerator(Sequence):\n",
        "\n",
        "    def __init__(self, data,vocab_size,batch_size):\n",
        "        self.data = data\n",
        "        self.vocab_size = vocab_size\n",
        "        self.batch_size = batch_size\n",
        "        self.current_idx = 0\n",
        "        self.batchNum=1\n",
        "        self.w2v_X = None\n",
        "        self.y = None\n",
        "        self.content = None\n",
        "        self.sentences = None\n",
        "    def generate(self):\n",
        "        while True:\n",
        "            #gc.collect()\n",
        "            #if(self.batchNum==1):\n",
        "                #print(\"1st Batch\")\n",
        "            self.w2v_X = None\n",
        "            self.y = None\n",
        "            self.content = None\n",
        "            self.sentences = None\n",
        "            self.batchNum+=1\n",
        "            if(self.current_idx+self.batch_size >= len(self.data)):\n",
        "                #print(\"Data from\", str(self.current_idx),\"till end\")\n",
        "                self.content = copy.deepcopy(self.data[self.current_idx:])\n",
        "                self.batchNum = 1\n",
        "                self.current_idx = 0\n",
        "                gc.collect()\n",
        "                #print(\"Epoch Completed\",str(self.batchNum))\n",
        "            else:\n",
        "                #print(\"Data from\", str(self.current_idx),\"to\",str(self.current_idx+self.batch_size))\n",
        "                self.content = copy.deepcopy(self.data[self.current_idx:self.current_idx+self.batch_size])\n",
        "                self.current_idx+=self.batch_size\n",
        "            \n",
        "            (self.w2v_X,self.y,self.sentences) = sequence_x_ytest(self.content)\n",
        "            yield (self.w2v_X.pop(), self.y.pop(),self.sentences.pop())"
      ],
      "execution_count": 0,
      "outputs": []
    },
    {
      "cell_type": "code",
      "metadata": {
        "id": "Am0yt58xavEz",
        "colab_type": "code",
        "colab": {}
      },
      "source": [
        "# import tensorflow as tf\n",
        "# run_opts = tf.RunOptions(report_tensor_allocations_upon_oom = True)"
      ],
      "execution_count": 0,
      "outputs": []
    },
    {
      "cell_type": "code",
      "metadata": {
        "id": "yYALwOiRavE0",
        "colab_type": "code",
        "colab": {}
      },
      "source": [
        "# train_generator = KerasBatchGenerator(train,vocab_size,batch_size)"
      ],
      "execution_count": 0,
      "outputs": []
    },
    {
      "cell_type": "code",
      "metadata": {
        "id": "1vOTxISmavE1",
        "colab_type": "code",
        "colab": {}
      },
      "source": [
        "# val_generator = KerasBatchGenerator(val[0:100],vocab_size,val_batch_size)"
      ],
      "execution_count": 0,
      "outputs": []
    },
    {
      "cell_type": "code",
      "metadata": {
        "id": "skGkjX_savE3",
        "colab_type": "code",
        "colab": {}
      },
      "source": [
        "# num_epochs=40"
      ],
      "execution_count": 0,
      "outputs": []
    },
    {
      "cell_type": "code",
      "metadata": {
        "id": "6xxFjRnRavE4",
        "colab_type": "code",
        "colab": {}
      },
      "source": [
        "import tensorflow as tf\n",
        "# from tensorflow.keras.layers import LSTM, Dense"
      ],
      "execution_count": 0,
      "outputs": []
    },
    {
      "cell_type": "code",
      "metadata": {
        "id": "anXuOTruavE5",
        "colab_type": "code",
        "colab": {}
      },
      "source": [
        "model = Sequential()\n",
        "model.add(CuDNNLSTM(50, input_shape=(seq_len, 300)))\n",
        "model.add(Dense(vocab_size, activation='softmax'))"
      ],
      "execution_count": 0,
      "outputs": []
    },
    {
      "cell_type": "code",
      "metadata": {
        "id": "lavbkZxQavE6",
        "colab_type": "code",
        "colab": {}
      },
      "source": [
        "model.compile(loss='categorical_crossentropy', optimizer='adam', metrics=['accuracy',perplexity])"
      ],
      "execution_count": 0,
      "outputs": []
    },
    {
      "cell_type": "code",
      "metadata": {
        "id": "HU-wW5MoavE7",
        "colab_type": "code",
        "colab": {}
      },
      "source": [
        "# len(val[0:100])/(val_batch_size)"
      ],
      "execution_count": 0,
      "outputs": []
    },
    {
      "cell_type": "code",
      "metadata": {
        "id": "LiafIb59avE8",
        "colab_type": "code",
        "colab": {}
      },
      "source": [
        "# import statistics\n",
        "# statistics.median([len(i) for i in emailTokens])"
      ],
      "execution_count": 0,
      "outputs": []
    },
    {
      "cell_type": "code",
      "metadata": {
        "id": "WboirIEEavE9",
        "colab_type": "code",
        "outputId": "7888f179-1944-406d-bcde-dd1d53102c48",
        "colab": {
          "base_uri": "https://localhost:8080/",
          "height": 218
        }
      },
      "source": [
        "# model.summary()"
      ],
      "execution_count": 0,
      "outputs": [
        {
          "output_type": "stream",
          "text": [
            "Model: \"sequential\"\n",
            "_________________________________________________________________\n",
            "Layer (type)                 Output Shape              Param #   \n",
            "=================================================================\n",
            "cu_dnnlstm (CuDNNLSTM)       (None, 50)                70400     \n",
            "_________________________________________________________________\n",
            "dense (Dense)                (None, 77826)             3969126   \n",
            "=================================================================\n",
            "Total params: 4,039,526\n",
            "Trainable params: 4,039,526\n",
            "Non-trainable params: 0\n",
            "_________________________________________________________________\n"
          ],
          "name": "stdout"
        }
      ]
    },
    {
      "cell_type": "code",
      "metadata": {
        "id": "WLP77UNYavE_",
        "colab_type": "code",
        "colab": {}
      },
      "source": [
        "# import math\n",
        "# import tqdm"
      ],
      "execution_count": 0,
      "outputs": []
    },
    {
      "cell_type": "code",
      "metadata": {
        "scrolled": true,
        "id": "NLycSsdjavFA",
        "colab_type": "code",
        "outputId": "d6cb22dd-4888-48cc-9912-6023c00233e9",
        "colab": {
          "base_uri": "https://localhost:8080/",
          "height": 1000
        }
      },
      "source": [
        "# hist = model.fit_generator(train_generator.generate(), math.ceil(len(train)/(batch_size)), epochs = num_epochs,\n",
        "#                               validation_data=val_generator.generate(),\n",
        "#                               validation_steps=math.ceil(len(val[0:100])/(val_batch_size)),verbose=1)"
      ],
      "execution_count": 0,
      "outputs": [
        {
          "output_type": "stream",
          "text": [
            "Epoch 1/40\n",
            "642/643 [============================>.] - ETA: 0s - loss: 7.3255 - acc: 0.0381 - perplexity: 927.7635Epoch 1/40\n",
            "643/643 [==============================] - 571s 888ms/step - loss: 7.3252 - acc: 0.0382 - perplexity: 928.4225 - val_loss: 7.2472 - val_acc: 0.0497 - val_perplexity: 1243.4751\n",
            "Epoch 2/40\n",
            "642/643 [============================>.] - ETA: 0s - loss: 6.8280 - acc: 0.0479 - perplexity: 500.6392Epoch 1/40\n",
            "643/643 [==============================] - 540s 840ms/step - loss: 6.8281 - acc: 0.0480 - perplexity: 501.0731 - val_loss: 6.9670 - val_acc: 0.0774 - val_perplexity: 782.4622\n",
            "Epoch 3/40\n",
            "642/643 [============================>.] - ETA: 0s - loss: 6.5450 - acc: 0.0728 - perplexity: 449.5240Epoch 1/40\n",
            "643/643 [==============================] - 540s 840ms/step - loss: 6.5451 - acc: 0.0728 - perplexity: 449.8583 - val_loss: 6.7196 - val_acc: 0.0842 - val_perplexity: 692.2410\n",
            "Epoch 4/40\n",
            "642/643 [============================>.] - ETA: 0s - loss: 6.2788 - acc: 0.0981 - perplexity: 399.4575Epoch 1/40\n",
            "643/643 [==============================] - 544s 846ms/step - loss: 6.2791 - acc: 0.0981 - perplexity: 399.7334 - val_loss: 6.5207 - val_acc: 0.0998 - val_perplexity: 624.0984\n",
            "Epoch 5/40\n",
            "642/643 [============================>.] - ETA: 0s - loss: 6.0541 - acc: 0.1145 - perplexity: 357.2671Epoch 1/40\n",
            "643/643 [==============================] - 540s 840ms/step - loss: 6.0544 - acc: 0.1145 - perplexity: 357.5149 - val_loss: 6.3584 - val_acc: 0.1070 - val_perplexity: 574.3187\n",
            "Epoch 6/40\n",
            "642/643 [============================>.] - ETA: 0s - loss: 5.8601 - acc: 0.1268 - perplexity: 324.9968Epoch 1/40\n",
            "643/643 [==============================] - 540s 840ms/step - loss: 5.8606 - acc: 0.1268 - perplexity: 325.2381 - val_loss: 6.2230 - val_acc: 0.1114 - val_perplexity: 541.0555\n",
            "Epoch 7/40\n",
            "642/643 [============================>.] - ETA: 0s - loss: 5.6797 - acc: 0.1441 - perplexity: 294.0222Epoch 1/40\n",
            "643/643 [==============================] - 539s 838ms/step - loss: 5.6802 - acc: 0.1441 - perplexity: 294.2429 - val_loss: 6.1115 - val_acc: 0.1202 - val_perplexity: 499.7230\n",
            "Epoch 8/40\n",
            "642/643 [============================>.] - ETA: 0s - loss: 5.5196 - acc: 0.1632 - perplexity: 267.7674Epoch 1/40\n",
            "643/643 [==============================] - 547s 851ms/step - loss: 5.5202 - acc: 0.1632 - perplexity: 267.9713 - val_loss: 6.0202 - val_acc: 0.1319 - val_perplexity: 466.2885\n",
            "Epoch 9/40\n",
            "642/643 [============================>.] - ETA: 0s - loss: 5.3843 - acc: 0.1760 - perplexity: 247.4890Epoch 1/40\n",
            "643/643 [==============================] - 542s 843ms/step - loss: 5.3851 - acc: 0.1760 - perplexity: 247.6772 - val_loss: 5.9404 - val_acc: 0.1363 - val_perplexity: 435.2990\n",
            "Epoch 10/40\n",
            "642/643 [============================>.] - ETA: 0s - loss: 5.2699 - acc: 0.1895 - perplexity: 232.1833Epoch 1/40\n",
            "643/643 [==============================] - 542s 842ms/step - loss: 5.2707 - acc: 0.1894 - perplexity: 232.3591 - val_loss: 5.8691 - val_acc: 0.1463 - val_perplexity: 408.5126\n",
            "Epoch 11/40\n",
            "642/643 [============================>.] - ETA: 0s - loss: 5.1718 - acc: 0.1990 - perplexity: 220.4693Epoch 1/40\n",
            "643/643 [==============================] - 541s 842ms/step - loss: 5.1727 - acc: 0.1989 - perplexity: 220.6353 - val_loss: 5.8097 - val_acc: 0.1515 - val_perplexity: 386.8198\n",
            "Epoch 12/40\n",
            "642/643 [============================>.] - ETA: 0s - loss: 5.0863 - acc: 0.2083 - perplexity: 211.6152Epoch 1/40\n",
            "643/643 [==============================] - 540s 840ms/step - loss: 5.0872 - acc: 0.2082 - perplexity: 211.7744 - val_loss: 5.7591 - val_acc: 0.1563 - val_perplexity: 370.1932\n",
            "Epoch 13/40\n",
            "642/643 [============================>.] - ETA: 0s - loss: 5.0116 - acc: 0.2168 - perplexity: 205.1127Epoch 1/40\n",
            "643/643 [==============================] - 544s 846ms/step - loss: 5.0126 - acc: 0.2167 - perplexity: 205.2666 - val_loss: 5.7149 - val_acc: 0.1607 - val_perplexity: 358.2040\n",
            "Epoch 14/40\n",
            "642/643 [============================>.] - ETA: 0s - loss: 4.9461 - acc: 0.2225 - perplexity: 200.7449Epoch 1/40\n",
            "643/643 [==============================] - 539s 838ms/step - loss: 4.9472 - acc: 0.2224 - perplexity: 200.8941 - val_loss: 5.6762 - val_acc: 0.1631 - val_perplexity: 350.9960\n",
            "Epoch 15/40\n",
            "642/643 [============================>.] - ETA: 0s - loss: 4.8883 - acc: 0.2277 - perplexity: 198.1832Epoch 1/40\n",
            "643/643 [==============================] - 540s 840ms/step - loss: 4.8893 - acc: 0.2276 - perplexity: 198.3295 - val_loss: 5.6403 - val_acc: 0.1687 - val_perplexity: 347.3087\n",
            "Epoch 16/40\n",
            "642/643 [============================>.] - ETA: 0s - loss: 4.8370 - acc: 0.2327 - perplexity: 197.1237Epoch 1/40\n",
            "643/643 [==============================] - 540s 840ms/step - loss: 4.8381 - acc: 0.2326 - perplexity: 197.2683 - val_loss: 5.6073 - val_acc: 0.1711 - val_perplexity: 346.9604\n",
            "Epoch 17/40\n",
            "642/643 [============================>.] - ETA: 0s - loss: 4.7914 - acc: 0.2373 - perplexity: 197.3478Epoch 1/40\n",
            "643/643 [==============================] - 544s 847ms/step - loss: 4.7925 - acc: 0.2372 - perplexity: 197.4920 - val_loss: 5.5766 - val_acc: 0.1735 - val_perplexity: 348.0557\n",
            "Epoch 18/40\n",
            "642/643 [============================>.] - ETA: 0s - loss: 4.7505 - acc: 0.2414 - perplexity: 198.7863Epoch 1/40\n",
            "643/643 [==============================] - 543s 845ms/step - loss: 4.7516 - acc: 0.2413 - perplexity: 198.9303 - val_loss: 5.5484 - val_acc: 0.1764 - val_perplexity: 349.5089\n",
            "Epoch 19/40\n",
            "642/643 [============================>.] - ETA: 0s - loss: 4.7137 - acc: 0.2450 - perplexity: 201.2022Epoch 1/40\n",
            "643/643 [==============================] - 540s 840ms/step - loss: 4.7148 - acc: 0.2449 - perplexity: 201.3458 - val_loss: 5.5216 - val_acc: 0.1747 - val_perplexity: 350.7065\n",
            "Epoch 20/40\n",
            "642/643 [============================>.] - ETA: 0s - loss: 4.6803 - acc: 0.2481 - perplexity: 204.5785Epoch 1/40\n",
            "643/643 [==============================] - 543s 845ms/step - loss: 4.6814 - acc: 0.2480 - perplexity: 204.7215 - val_loss: 5.4957 - val_acc: 0.1764 - val_perplexity: 351.5427\n",
            "Epoch 21/40\n",
            "642/643 [============================>.] - ETA: 0s - loss: 4.6499 - acc: 0.2512 - perplexity: 208.8903Epoch 1/40\n",
            "643/643 [==============================] - 538s 837ms/step - loss: 4.6510 - acc: 0.2511 - perplexity: 209.0320 - val_loss: 5.4714 - val_acc: 0.1776 - val_perplexity: 351.4913\n",
            "Epoch 22/40\n",
            "642/643 [============================>.] - ETA: 0s - loss: 4.6219 - acc: 0.2542 - perplexity: 214.0497Epoch 1/40\n",
            "643/643 [==============================] - 540s 840ms/step - loss: 4.6231 - acc: 0.2541 - perplexity: 214.1886 - val_loss: 5.4484 - val_acc: 0.1784 - val_perplexity: 352.2281\n",
            "Epoch 23/40\n",
            "642/643 [============================>.] - ETA: 0s - loss: 4.5963 - acc: 0.2566 - perplexity: 220.0363Epoch 1/40\n",
            "643/643 [==============================] - 531s 827ms/step - loss: 4.5974 - acc: 0.2565 - perplexity: 220.1701 - val_loss: 5.4282 - val_acc: 0.1792 - val_perplexity: 355.4661\n",
            "Epoch 24/40\n",
            "642/643 [============================>.] - ETA: 0s - loss: 4.5725 - acc: 0.2588 - perplexity: 226.5082Epoch 1/40\n",
            "643/643 [==============================] - 533s 829ms/step - loss: 4.5737 - acc: 0.2587 - perplexity: 226.6348 - val_loss: 5.4086 - val_acc: 0.1796 - val_perplexity: 358.4945\n",
            "Epoch 25/40\n",
            "642/643 [============================>.] - ETA: 0s - loss: 4.5505 - acc: 0.2611 - perplexity: 233.2749Epoch 1/40\n",
            "643/643 [==============================] - 533s 829ms/step - loss: 4.5517 - acc: 0.2610 - perplexity: 233.3929 - val_loss: 5.3905 - val_acc: 0.1812 - val_perplexity: 362.8157\n",
            "Epoch 26/40\n",
            "642/643 [============================>.] - ETA: 0s - loss: 4.5300 - acc: 0.2633 - perplexity: 240.1409Epoch 1/40\n",
            "643/643 [==============================] - 527s 819ms/step - loss: 4.5312 - acc: 0.2632 - perplexity: 240.2492 - val_loss: 5.3741 - val_acc: 0.1824 - val_perplexity: 367.8149\n",
            "Epoch 27/40\n",
            "642/643 [============================>.] - ETA: 0s - loss: 4.5108 - acc: 0.2654 - perplexity: 246.8763Epoch 1/40\n",
            "643/643 [==============================] - 527s 819ms/step - loss: 4.5120 - acc: 0.2653 - perplexity: 246.9751 - val_loss: 5.3592 - val_acc: 0.1820 - val_perplexity: 373.1687\n",
            "Epoch 28/40\n",
            "642/643 [============================>.] - ETA: 0s - loss: 4.4929 - acc: 0.2673 - perplexity: 253.1560Epoch 1/40\n",
            "643/643 [==============================] - 521s 811ms/step - loss: 4.4940 - acc: 0.2672 - perplexity: 253.2452 - val_loss: 5.3456 - val_acc: 0.1840 - val_perplexity: 378.4469\n",
            "Epoch 29/40\n",
            "642/643 [============================>.] - ETA: 0s - loss: 4.4759 - acc: 0.2692 - perplexity: 258.8885Epoch 1/40\n",
            "643/643 [==============================] - 519s 806ms/step - loss: 4.4771 - acc: 0.2691 - perplexity: 258.9696 - val_loss: 5.3330 - val_acc: 0.1860 - val_perplexity: 383.4811\n",
            "Epoch 30/40\n",
            "642/643 [============================>.] - ETA: 0s - loss: 4.4600 - acc: 0.2709 - perplexity: 263.6559Epoch 1/40\n",
            "643/643 [==============================] - 525s 816ms/step - loss: 4.4612 - acc: 0.2708 - perplexity: 263.7302 - val_loss: 5.3215 - val_acc: 0.1892 - val_perplexity: 388.6290\n",
            "Epoch 31/40\n",
            "642/643 [============================>.] - ETA: 0s - loss: 4.4450 - acc: 0.2725 - perplexity: 268.3042Epoch 1/40\n",
            "643/643 [==============================] - 520s 808ms/step - loss: 4.4462 - acc: 0.2724 - perplexity: 268.3735 - val_loss: 5.3108 - val_acc: 0.1924 - val_perplexity: 394.0764\n",
            "Epoch 32/40\n",
            "642/643 [============================>.] - ETA: 0s - loss: 4.4308 - acc: 0.2740 - perplexity: 272.1365Epoch 1/40\n",
            "643/643 [==============================] - 522s 811ms/step - loss: 4.4319 - acc: 0.2739 - perplexity: 272.2018 - val_loss: 5.3006 - val_acc: 0.1940 - val_perplexity: 400.2795\n",
            "Epoch 33/40\n",
            "642/643 [============================>.] - ETA: 0s - loss: 4.4173 - acc: 0.2755 - perplexity: 276.1075Epoch 1/40\n",
            "643/643 [==============================] - 520s 809ms/step - loss: 4.4185 - acc: 0.2753 - perplexity: 276.1693 - val_loss: 5.2908 - val_acc: 0.1936 - val_perplexity: 407.6436\n",
            "Epoch 34/40\n",
            "642/643 [============================>.] - ETA: 0s - loss: 4.4045 - acc: 0.2769 - perplexity: 279.4916Epoch 1/40\n",
            "643/643 [==============================] - 525s 816ms/step - loss: 4.4057 - acc: 0.2768 - perplexity: 279.5512 - val_loss: 5.2814 - val_acc: 0.1924 - val_perplexity: 416.7661\n",
            "Epoch 35/40\n",
            "642/643 [============================>.] - ETA: 0s - loss: 4.3923 - acc: 0.2781 - perplexity: 283.7549Epoch 1/40\n",
            "643/643 [==============================] - 522s 812ms/step - loss: 4.3935 - acc: 0.2780 - perplexity: 283.8114 - val_loss: 5.2725 - val_acc: 0.1932 - val_perplexity: 426.7020\n",
            "Epoch 36/40\n",
            "642/643 [============================>.] - ETA: 0s - loss: 4.3807 - acc: 0.2794 - perplexity: 286.6885Epoch 1/40\n",
            "643/643 [==============================] - 520s 808ms/step - loss: 4.3819 - acc: 0.2793 - perplexity: 286.7435 - val_loss: 5.2638 - val_acc: 0.1932 - val_perplexity: 439.3808\n",
            "Epoch 37/40\n",
            "642/643 [============================>.] - ETA: 0s - loss: 4.3697 - acc: 0.2807 - perplexity: 290.5349Epoch 1/40\n",
            "643/643 [==============================] - 520s 809ms/step - loss: 4.3708 - acc: 0.2806 - perplexity: 290.5872 - val_loss: 5.2554 - val_acc: 0.1956 - val_perplexity: 451.6745\n",
            "Epoch 38/40\n",
            "642/643 [============================>.] - ETA: 0s - loss: 4.3590 - acc: 0.2819 - perplexity: 293.8412Epoch 1/40\n",
            "643/643 [==============================] - 521s 811ms/step - loss: 4.3602 - acc: 0.2818 - perplexity: 293.8912 - val_loss: 5.2474 - val_acc: 0.1988 - val_perplexity: 467.6980\n",
            "Epoch 39/40\n",
            "642/643 [============================>.] - ETA: 0s - loss: 4.3489 - acc: 0.2832 - perplexity: 297.1928Epoch 1/40\n",
            "643/643 [==============================] - 526s 818ms/step - loss: 4.3501 - acc: 0.2831 - perplexity: 297.2398 - val_loss: 5.2395 - val_acc: 0.1992 - val_perplexity: 482.0738\n",
            "Epoch 40/40\n",
            "642/643 [============================>.] - ETA: 0s - loss: 4.3391 - acc: 0.2843 - perplexity: 300.0789Epoch 1/40\n",
            "643/643 [==============================] - 521s 810ms/step - loss: 4.3403 - acc: 0.2842 - perplexity: 300.1246 - val_loss: 5.2321 - val_acc: 0.1996 - val_perplexity: 498.2344\n"
          ],
          "name": "stdout"
        }
      ]
    },
    {
      "cell_type": "code",
      "metadata": {
        "id": "sgPea1RjavFC",
        "colab_type": "code",
        "colab": {}
      },
      "source": [
        "# sess = tf.Session(config=tf.ConfigProto(log_device_placement=True))"
      ],
      "execution_count": 0,
      "outputs": []
    },
    {
      "cell_type": "code",
      "metadata": {
        "id": "4FgmiSTPavFD",
        "colab_type": "code",
        "colab": {}
      },
      "source": [
        "# (a,b) = sequence_x_y(copy.deepcopy(train[23*128:24*128]))\n",
        "# a"
      ],
      "execution_count": 0,
      "outputs": []
    },
    {
      "cell_type": "code",
      "metadata": {
        "id": "36q8wcczavFE",
        "colab_type": "code",
        "outputId": "127ced64-abae-4d80-c021-21c7845d21a8",
        "colab": {
          "base_uri": "https://localhost:8080/",
          "height": 1000
        }
      },
      "source": [
        "# hist.history"
      ],
      "execution_count": 0,
      "outputs": [
        {
          "output_type": "execute_result",
          "data": {
            "text/plain": [
              "{'acc': [0.038161583,\n",
              "  0.047983527,\n",
              "  0.07284822,\n",
              "  0.09809936,\n",
              "  0.11452181,\n",
              "  0.12683383,\n",
              "  0.14405634,\n",
              "  0.1632115,\n",
              "  0.17599446,\n",
              "  0.18941191,\n",
              "  0.19891116,\n",
              "  0.20820485,\n",
              "  0.21667576,\n",
              "  0.22238381,\n",
              "  0.22763723,\n",
              "  0.23257342,\n",
              "  0.23723483,\n",
              "  0.2412578,\n",
              "  0.24485579,\n",
              "  0.24800804,\n",
              "  0.251143,\n",
              "  0.25409165,\n",
              "  0.25645918,\n",
              "  0.25870958,\n",
              "  0.26101187,\n",
              "  0.26320052,\n",
              "  0.2653101,\n",
              "  0.2671879,\n",
              "  0.26912946,\n",
              "  0.2708348,\n",
              "  0.27242157,\n",
              "  0.27390453,\n",
              "  0.2753406,\n",
              "  0.27680427,\n",
              "  0.27802733,\n",
              "  0.27929732,\n",
              "  0.2806093,\n",
              "  0.28181162,\n",
              "  0.28311175,\n",
              "  0.28420186],\n",
              " 'loss': [7.316876920573543,\n",
              "  6.829084748976582,\n",
              "  6.5455171526033515,\n",
              "  6.2782118812676915,\n",
              "  6.051699852368849,\n",
              "  5.856082385629648,\n",
              "  5.673014378459329,\n",
              "  5.5104227564797785,\n",
              "  5.37353292849194,\n",
              "  5.258293249985147,\n",
              "  5.159916819194751,\n",
              "  5.074276493564709,\n",
              "  4.999546957992154,\n",
              "  4.933962097996374,\n",
              "  4.875933995936033,\n",
              "  4.824516829723745,\n",
              "  4.778735741880142,\n",
              "  4.7376851728674145,\n",
              "  4.700779586611394,\n",
              "  4.667264661332943,\n",
              "  4.636728354446207,\n",
              "  4.608747438965592,\n",
              "  4.582992416452707,\n",
              "  4.559260959782075,\n",
              "  4.537215898223458,\n",
              "  4.51670165671297,\n",
              "  4.497541865169486,\n",
              "  4.479569278858079,\n",
              "  4.462658202567776,\n",
              "  4.4467557597698715,\n",
              "  4.431734074233373,\n",
              "  4.417543852150973,\n",
              "  4.4040877787998784,\n",
              "  4.391332101572793,\n",
              "  4.379185639924792,\n",
              "  4.367639664187518,\n",
              "  4.356581641578387,\n",
              "  4.3459980809896726,\n",
              "  4.335887419959156,\n",
              "  4.326187695043071],\n",
              " 'perplexity': [928.4225,\n",
              "  501.0731,\n",
              "  449.8583,\n",
              "  399.73337,\n",
              "  357.51486,\n",
              "  325.23807,\n",
              "  294.24292,\n",
              "  267.9713,\n",
              "  247.67715,\n",
              "  232.35909,\n",
              "  220.63533,\n",
              "  211.77441,\n",
              "  205.26656,\n",
              "  200.89413,\n",
              "  198.32951,\n",
              "  197.26826,\n",
              "  197.49203,\n",
              "  198.93027,\n",
              "  201.34578,\n",
              "  204.72154,\n",
              "  209.03198,\n",
              "  214.18858,\n",
              "  220.17006,\n",
              "  226.63478,\n",
              "  233.39288,\n",
              "  240.24922,\n",
              "  246.97507,\n",
              "  253.2452,\n",
              "  258.96964,\n",
              "  263.73022,\n",
              "  268.37354,\n",
              "  272.20184,\n",
              "  276.16928,\n",
              "  279.55118,\n",
              "  283.81137,\n",
              "  286.74353,\n",
              "  290.5872,\n",
              "  293.8912,\n",
              "  297.23984,\n",
              "  300.12457],\n",
              " 'val_acc': [0.0496994,\n",
              "  0.07735471,\n",
              "  0.08416834,\n",
              "  0.099799596,\n",
              "  0.10701403,\n",
              "  0.111422844,\n",
              "  0.12024048,\n",
              "  0.13186373,\n",
              "  0.13627255,\n",
              "  0.14629258,\n",
              "  0.15150301,\n",
              "  0.15631263,\n",
              "  0.16072144,\n",
              "  0.16312625,\n",
              "  0.16873747,\n",
              "  0.17114228,\n",
              "  0.17354709,\n",
              "  0.17635271,\n",
              "  0.1747495,\n",
              "  0.17635271,\n",
              "  0.17755511,\n",
              "  0.1783567,\n",
              "  0.17915832,\n",
              "  0.17955911,\n",
              "  0.18116233,\n",
              "  0.18236473,\n",
              "  0.18196392,\n",
              "  0.18396793,\n",
              "  0.18597195,\n",
              "  0.18917836,\n",
              "  0.19238476,\n",
              "  0.19398798,\n",
              "  0.19358717,\n",
              "  0.19238476,\n",
              "  0.19318637,\n",
              "  0.19318637,\n",
              "  0.19559118,\n",
              "  0.1987976,\n",
              "  0.1991984,\n",
              "  0.19959919],\n",
              " 'val_loss': [7.247240815843854,\n",
              "  6.966986792428153,\n",
              "  6.719614233289446,\n",
              "  6.5207295417785645,\n",
              "  6.3583583150591165,\n",
              "  6.2230314527239114,\n",
              "  6.11152069909232,\n",
              "  6.020244325910296,\n",
              "  5.940366404397147,\n",
              "  5.869107791355678,\n",
              "  5.80966717856271,\n",
              "  5.759131159101214,\n",
              "  5.714914798736572,\n",
              "  5.676181725093296,\n",
              "  5.640345573425293,\n",
              "  5.6073320252554755,\n",
              "  5.576616695949009,\n",
              "  5.548392227717808,\n",
              "  5.521646772112165,\n",
              "  5.495735372815814,\n",
              "  5.471408843994141,\n",
              "  5.448387895311628,\n",
              "  5.428212574550083,\n",
              "  5.408613545554025,\n",
              "  5.390506403786795,\n",
              "  5.374123573303223,\n",
              "  5.359176976340158,\n",
              "  5.345556667872837,\n",
              "  5.333044597080776,\n",
              "  5.321504865373884,\n",
              "  5.310794762202671,\n",
              "  5.300647667476109,\n",
              "  5.290773596082415,\n",
              "  5.281384604317801,\n",
              "  5.272462163652692,\n",
              "  5.263833114079067,\n",
              "  5.255429880959647,\n",
              "  5.247353417532785,\n",
              "  5.239506925855364,\n",
              "  5.23205954687936],\n",
              " 'val_perplexity': [1243.4751,\n",
              "  782.4622,\n",
              "  692.241,\n",
              "  624.09845,\n",
              "  574.31866,\n",
              "  541.0555,\n",
              "  499.723,\n",
              "  466.28848,\n",
              "  435.29904,\n",
              "  408.51263,\n",
              "  386.81982,\n",
              "  370.1932,\n",
              "  358.204,\n",
              "  350.996,\n",
              "  347.30875,\n",
              "  346.96036,\n",
              "  348.05566,\n",
              "  349.50885,\n",
              "  350.70654,\n",
              "  351.5427,\n",
              "  351.49133,\n",
              "  352.22806,\n",
              "  355.4661,\n",
              "  358.4945,\n",
              "  362.81573,\n",
              "  367.81488,\n",
              "  373.1687,\n",
              "  378.4469,\n",
              "  383.48114,\n",
              "  388.629,\n",
              "  394.07645,\n",
              "  400.2795,\n",
              "  407.6436,\n",
              "  416.76614,\n",
              "  426.70197,\n",
              "  439.3808,\n",
              "  451.6745,\n",
              "  467.698,\n",
              "  482.07376,\n",
              "  498.2344]}"
            ]
          },
          "metadata": {
            "tags": []
          },
          "execution_count": 75
        }
      ]
    },
    {
      "cell_type": "code",
      "metadata": {
        "id": "3uQ1FmtPavFF",
        "colab_type": "code",
        "colab": {}
      },
      "source": [
        "# model.save('drive/My Drive/Next Word Prediction/model_seq5.h5')    "
      ],
      "execution_count": 0,
      "outputs": []
    },
    {
      "cell_type": "code",
      "metadata": {
        "id": "aQ52s_sOavFH",
        "colab_type": "code",
        "colab": {}
      },
      "source": [
        "# import pickle \n",
        "# with open('drive/My Drive/Next Word Prediction/trainHistory', 'wb') as handle: # saving the history of the model\n",
        "#     pickle.dump(hist.history, handle)"
      ],
      "execution_count": 0,
      "outputs": []
    },
    {
      "cell_type": "code",
      "metadata": {
        "id": "kS71WJhqnyPf",
        "colab_type": "code",
        "colab": {}
      },
      "source": [
        "# model.save_weights('drive/My Drive/Next Word Prediction/model_seq5_weights')"
      ],
      "execution_count": 0,
      "outputs": []
    },
    {
      "cell_type": "code",
      "metadata": {
        "id": "VqORwVj5avFJ",
        "colab_type": "code",
        "colab": {}
      },
      "source": [
        "# w2v_X_test[0]"
      ],
      "execution_count": 0,
      "outputs": []
    },
    {
      "cell_type": "code",
      "metadata": {
        "id": "FpWAyaZSKLK8",
        "colab_type": "code",
        "colab": {}
      },
      "source": [
        "#model.load_weights('drive/My Drive/Next Word Prediction/')"
      ],
      "execution_count": 0,
      "outputs": []
    },
    {
      "cell_type": "code",
      "metadata": {
        "id": "L323U_KAavFK",
        "colab_type": "code",
        "colab": {}
      },
      "source": [
        "# print(model.summary())"
      ],
      "execution_count": 0,
      "outputs": []
    },
    {
      "cell_type": "code",
      "metadata": {
        "id": "IQuXd8JZptB7",
        "colab_type": "code",
        "outputId": "ae245c01-24a8-4e35-cdaa-356c2cf78dc3",
        "colab": {
          "base_uri": "https://localhost:8080/",
          "height": 218
        }
      },
      "source": [
        "# dependencies = {\n",
        "#     'perplexity': perplexity\n",
        "# }\n",
        "model = tf.keras.models.load_model('drive/My Drive/Next Word Prediction/model_seq5.h5',custom_objects=dependencies)\n",
        "model.summary()"
      ],
      "execution_count": 0,
      "outputs": [
        {
          "output_type": "stream",
          "text": [
            "Model: \"sequential\"\n",
            "_________________________________________________________________\n",
            "Layer (type)                 Output Shape              Param #   \n",
            "=================================================================\n",
            "cu_dnnlstm (CuDNNLSTM)       (None, 50)                70400     \n",
            "_________________________________________________________________\n",
            "dense (Dense)                (None, 77826)             3969126   \n",
            "=================================================================\n",
            "Total params: 4,039,526\n",
            "Trainable params: 4,039,526\n",
            "Non-trainable params: 0\n",
            "_________________________________________________________________\n"
          ],
          "name": "stdout"
        }
      ]
    },
    {
      "cell_type": "code",
      "metadata": {
        "id": "ZoeqtOKyp8NU",
        "colab_type": "code",
        "colab": {}
      },
      "source": [
        "from pickle import load\n",
        "with open('drive/My Drive/Next Word Prediction/trainHistory', 'rb') as handle:\n",
        "    history = load(handle)"
      ],
      "execution_count": 0,
      "outputs": []
    },
    {
      "cell_type": "code",
      "metadata": {
        "id": "dCFZpydTqBEz",
        "colab_type": "code",
        "outputId": "a3080641-2fb8-4121-c7ac-e6d4d115420e",
        "colab": {
          "base_uri": "https://localhost:8080/",
          "height": 218
        }
      },
      "source": [
        "model.summary()"
      ],
      "execution_count": 0,
      "outputs": [
        {
          "output_type": "stream",
          "text": [
            "Model: \"sequential\"\n",
            "_________________________________________________________________\n",
            "Layer (type)                 Output Shape              Param #   \n",
            "=================================================================\n",
            "cu_dnnlstm (CuDNNLSTM)       (None, 50)                70400     \n",
            "_________________________________________________________________\n",
            "dense (Dense)                (None, 77826)             3969126   \n",
            "=================================================================\n",
            "Total params: 4,039,526\n",
            "Trainable params: 4,039,526\n",
            "Non-trainable params: 0\n",
            "_________________________________________________________________\n"
          ],
          "name": "stdout"
        }
      ]
    },
    {
      "cell_type": "code",
      "metadata": {
        "id": "IIbWkUR4qGaE",
        "colab_type": "code",
        "colab": {}
      },
      "source": [
        "batch_size = 16\n",
        "testGenerator = KerastestBatchGenerator(train[0:1000],vocab_size,batch_size)"
      ],
      "execution_count": 0,
      "outputs": []
    },
    {
      "cell_type": "code",
      "metadata": {
        "id": "_soUjAkRavFL",
        "colab_type": "code",
        "colab": {}
      },
      "source": [
        "import heapq"
      ],
      "execution_count": 0,
      "outputs": []
    },
    {
      "cell_type": "code",
      "metadata": {
        "id": "rGo_micGqJTR",
        "colab_type": "code",
        "outputId": "b5ec5bc6-732e-422e-97b4-046317d368b7",
        "colab": {
          "base_uri": "https://localhost:8080/",
          "height": 218
        }
      },
      "source": [
        "test_columns = [\"sentence\",\"ground_truth\"]\n",
        "for i in range(1,11):\n",
        "    test_columns.append(\"pred_\"+str(i))\n",
        "test_columns"
      ],
      "execution_count": 0,
      "outputs": [
        {
          "output_type": "execute_result",
          "data": {
            "text/plain": [
              "['sentence',\n",
              " 'ground_truth',\n",
              " 'pred_1',\n",
              " 'pred_2',\n",
              " 'pred_3',\n",
              " 'pred_4',\n",
              " 'pred_5',\n",
              " 'pred_6',\n",
              " 'pred_7',\n",
              " 'pred_8',\n",
              " 'pred_9',\n",
              " 'pred_10']"
            ]
          },
          "metadata": {
            "tags": []
          },
          "execution_count": 158
        }
      ]
    },
    {
      "cell_type": "code",
      "metadata": {
        "id": "6CNmorAPqL6n",
        "colab_type": "code",
        "outputId": "71766beb-90ca-4c69-bd0c-15aea396e427",
        "colab": {
          "base_uri": "https://localhost:8080/",
          "height": 34
        }
      },
      "source": [
        "(yy,zz,sentences) = next(testGenerator.generate())\n",
        "yy = yy.reshape(-1,seq_len,300)\n",
        "yy.shape\n",
        "#sentences"
      ],
      "execution_count": 0,
      "outputs": [
        {
          "output_type": "execute_result",
          "data": {
            "text/plain": [
              "(377, 5, 300)"
            ]
          },
          "metadata": {
            "tags": []
          },
          "execution_count": 166
        }
      ]
    },
    {
      "cell_type": "code",
      "metadata": {
        "id": "jKVL28d_IoZd",
        "colab_type": "code",
        "colab": {}
      },
      "source": [
        "yytest = [word_map[item[-1]] for item in sentences[0:377]]"
      ],
      "execution_count": 0,
      "outputs": []
    },
    {
      "cell_type": "code",
      "metadata": {
        "id": "WWZhkwURJNKr",
        "colab_type": "code",
        "outputId": "a3e70d4e-dc4c-4dfd-d12f-379caf38f6be",
        "colab": {
          "base_uri": "https://localhost:8080/",
          "height": 34
        }
      },
      "source": [
        "type(int(np.argmax(pred[0])))"
      ],
      "execution_count": 0,
      "outputs": [
        {
          "output_type": "execute_result",
          "data": {
            "text/plain": [
              "int"
            ]
          },
          "metadata": {
            "tags": []
          },
          "execution_count": 190
        }
      ]
    },
    {
      "cell_type": "code",
      "metadata": {
        "id": "XrNmcjsmHvF-",
        "colab_type": "code",
        "outputId": "91cd85a3-3069-4322-f2e5-b018133e75d7",
        "colab": {
          "base_uri": "https://localhost:8080/",
          "height": 50
        }
      },
      "source": [
        "print(word_map['pipeline'])\n",
        "print(word_map['co'])"
      ],
      "execution_count": 0,
      "outputs": [
        {
          "output_type": "stream",
          "text": [
            "22550\n",
            "3281\n"
          ],
          "name": "stdout"
        }
      ]
    },
    {
      "cell_type": "code",
      "metadata": {
        "id": "f_4bDt0UHrjj",
        "colab_type": "code",
        "colab": {}
      },
      "source": [
        "pred = model.predict(yy[0:377])\n",
        "for j in range(377):\n",
        "  if(yytest[j] == int(np.argmax(pred[j]))):\n",
        "    print(\"Yes\")"
      ],
      "execution_count": 0,
      "outputs": []
    },
    {
      "cell_type": "code",
      "metadata": {
        "id": "chJ0xCfJ0bar",
        "colab_type": "code",
        "colab": {}
      },
      "source": [
        "#sentences[0]"
      ],
      "execution_count": 0,
      "outputs": []
    },
    {
      "cell_type": "code",
      "metadata": {
        "id": "SDapDTEMqL3T",
        "colab_type": "code",
        "colab": {}
      },
      "source": [
        "# yy_pred = model.predict_on_batch(yy[0:2])\n",
        "# yy_pred.shape"
      ],
      "execution_count": 0,
      "outputs": []
    },
    {
      "cell_type": "code",
      "metadata": {
        "id": "YKn8e8XNqL0i",
        "colab_type": "code",
        "outputId": "d1ac8156-0f73-4271-d046-3594d1cb0a53",
        "colab": {
          "base_uri": "https://localhost:8080/",
          "height": 34
        }
      },
      "source": [
        "# yy_pred\n",
        "#model.get_weights()\n",
        "ll = np.array([8,0,3,7,6,2,1])\n",
        "(-ll).argsort()[:3]"
      ],
      "execution_count": 0,
      "outputs": [
        {
          "output_type": "execute_result",
          "data": {
            "text/plain": [
              "array([0, 3, 4])"
            ]
          },
          "metadata": {
            "tags": []
          },
          "execution_count": 150
        }
      ]
    },
    {
      "cell_type": "code",
      "metadata": {
        "id": "OuOpGMDXHhnn",
        "colab_type": "code",
        "colab": {}
      },
      "source": [
        ""
      ],
      "execution_count": 0,
      "outputs": []
    },
    {
      "cell_type": "code",
      "metadata": {
        "id": "VlRyvquJqLya",
        "colab_type": "code",
        "outputId": "58d34f07-ae77-4e57-b3ae-7f91cdf1be25",
        "colab": {
          "base_uri": "https://localhost:8080/",
          "height": 750
        }
      },
      "source": [
        "test_accuracy = 0\n",
        "test_accuracy_top5 = 0\n",
        "test_accuracy_top10 = 0\n",
        "total = 0\n",
        "import math\n",
        "for i in range(0,math.ceil(len(train[0:1000])/(batch_size))):\n",
        "    print(\"Batch\",str(i+1),\"out of \",str(math.ceil(len(train[0:1000])/(batch_size))))\n",
        "    #df_pred = pd.DataFrame(columns=test_columns)\n",
        "    (tempx,tempy,sen) = next(testGenerator.generate())\n",
        "    tempx = tempx.reshape(-1,seq_len,300)\n",
        "    numRows = tempx.shape[0]\n",
        "    test_pred = model.predict_on_batch(tempx)\n",
        "    y_test = [word_map[item[-1]] for item in sen]\n",
        "    for j in range(numRows):\n",
        "        pp = np.argmax(test_pred[j])\n",
        "\n",
        "        total+=1\n",
        "        temp = (-test_pred[j]).argsort()[:10]\n",
        "        #Calculate Accuracies\n",
        "        if(y_test[j] in temp):\n",
        "            test_accuracy_top10+=1\n",
        "        if(y_test[j] in temp[0:5]):\n",
        "            test_accuracy_top5+=1\n",
        "            if(y_test[j] == temp[0]):\n",
        "                test_accuracy+=1\n",
        "        \n",
        "    print(\"Accuracy=\",str(test_accuracy/total))\n",
        "    print(\"Top5Accuaracy=\",str(test_accuracy_top5/total))\n",
        "    print(\"Top10Accuaracy=\",str(test_accuracy_top10/total))\n",
        "    print(\"total=\",str(total))\n",
        "        #row = {}\n",
        "        #row['sentence'] = sen[j][:-1]\n",
        "        #row['ground_truth'] = inverse_word_map[y_test[j]]\n",
        "        #for k in range(len(temp)):\n",
        "            #row['pred_'+str(k+1)] = inverse_word_map[temp[k]]\n",
        "        #df_pred = df_pred.append(row , ignore_index=True)\n",
        "    #df_pred.to_csv(\"predictions_batch_\"+str(i))\n",
        "    #display(df_pred.head(10))"
      ],
      "execution_count": 0,
      "outputs": [
        {
          "output_type": "stream",
          "text": [
            "Batch 1 out of  63\n",
            "Accuracy= 0.0\n",
            "Top5Accuaracy= 0.0\n",
            "Top10Accuaracy= 0.0\n",
            "total= 419\n",
            "Batch 2 out of  63\n",
            "Accuracy= 0.0\n",
            "Top5Accuaracy= 0.0\n",
            "Top10Accuaracy= 0.0013774104683195593\n",
            "total= 726\n",
            "Batch 3 out of  63\n",
            "Accuracy= 0.0\n",
            "Top5Accuaracy= 0.0\n",
            "Top10Accuaracy= 0.0009699321047526673\n",
            "total= 1031\n",
            "Batch 4 out of  63\n",
            "Accuracy= 0.0\n",
            "Top5Accuaracy= 0.0\n",
            "Top10Accuaracy= 0.0007451564828614009\n",
            "total= 1342\n",
            "Batch 5 out of  63\n",
            "Accuracy= 0.0\n",
            "Top5Accuaracy= 0.0\n",
            "Top10Accuaracy= 0.0005790387955993051\n",
            "total= 1727\n",
            "Batch 6 out of  63\n",
            "Accuracy= 0.0\n",
            "Top5Accuaracy= 0.0\n",
            "Top10Accuaracy= 0.0004621072088724584\n",
            "total= 2164\n",
            "Batch 7 out of  63\n"
          ],
          "name": "stdout"
        },
        {
          "output_type": "error",
          "ename": "KeyboardInterrupt",
          "evalue": "ignored",
          "traceback": [
            "\u001b[0;31m---------------------------------------------------------------------------\u001b[0m",
            "\u001b[0;31mKeyboardInterrupt\u001b[0m                         Traceback (most recent call last)",
            "\u001b[0;32m<ipython-input-201-b93291a31d8d>\u001b[0m in \u001b[0;36m<module>\u001b[0;34m()\u001b[0m\n\u001b[1;32m     16\u001b[0m \u001b[0;34m\u001b[0m\u001b[0m\n\u001b[1;32m     17\u001b[0m         \u001b[0mtotal\u001b[0m\u001b[0;34m+=\u001b[0m\u001b[0;36m1\u001b[0m\u001b[0;34m\u001b[0m\u001b[0;34m\u001b[0m\u001b[0m\n\u001b[0;32m---> 18\u001b[0;31m         \u001b[0mtemp\u001b[0m \u001b[0;34m=\u001b[0m \u001b[0;34m(\u001b[0m\u001b[0;34m-\u001b[0m\u001b[0mtest_pred\u001b[0m\u001b[0;34m[\u001b[0m\u001b[0mj\u001b[0m\u001b[0;34m]\u001b[0m\u001b[0;34m)\u001b[0m\u001b[0;34m.\u001b[0m\u001b[0margsort\u001b[0m\u001b[0;34m(\u001b[0m\u001b[0;34m)\u001b[0m\u001b[0;34m[\u001b[0m\u001b[0;34m:\u001b[0m\u001b[0;36m10\u001b[0m\u001b[0;34m]\u001b[0m\u001b[0;34m\u001b[0m\u001b[0;34m\u001b[0m\u001b[0m\n\u001b[0m\u001b[1;32m     19\u001b[0m         \u001b[0;31m#Calculate Accuracies\u001b[0m\u001b[0;34m\u001b[0m\u001b[0;34m\u001b[0m\u001b[0;34m\u001b[0m\u001b[0m\n\u001b[1;32m     20\u001b[0m         \u001b[0;32mif\u001b[0m\u001b[0;34m(\u001b[0m\u001b[0my_test\u001b[0m\u001b[0;34m[\u001b[0m\u001b[0mj\u001b[0m\u001b[0;34m]\u001b[0m \u001b[0;32min\u001b[0m \u001b[0mtemp\u001b[0m\u001b[0;34m)\u001b[0m\u001b[0;34m:\u001b[0m\u001b[0;34m\u001b[0m\u001b[0;34m\u001b[0m\u001b[0m\n",
            "\u001b[0;31mKeyboardInterrupt\u001b[0m: "
          ]
        }
      ]
    },
    {
      "cell_type": "code",
      "metadata": {
        "id": "fmZ9QYTHqLvq",
        "colab_type": "code",
        "colab": {}
      },
      "source": [
        "test_accuracy_top10"
      ],
      "execution_count": 0,
      "outputs": []
    },
    {
      "cell_type": "code",
      "metadata": {
        "id": "auOI8n5gavFM",
        "colab_type": "code",
        "colab": {}
      },
      "source": [
        "test_pred = model.predict(w2v_X_test.reshape(-1,seq_len,300))\n",
        "test_pred.shape"
      ],
      "execution_count": 0,
      "outputs": []
    },
    {
      "cell_type": "code",
      "metadata": {
        "id": "Abu3rcVeavFO",
        "colab_type": "code",
        "colab": {}
      },
      "source": [
        "test_columns = [\"sentence\",\"ground_truth\"]\n",
        "for i in range(1,11):\n",
        "    test_columns.append(\"pred_\"+str(i))\n",
        "test_columns"
      ],
      "execution_count": 0,
      "outputs": []
    },
    {
      "cell_type": "code",
      "metadata": {
        "id": "4eSNxvmNavFR",
        "colab_type": "code",
        "colab": {}
      },
      "source": [
        ""
      ],
      "execution_count": 0,
      "outputs": []
    },
    {
      "cell_type": "code",
      "metadata": {
        "id": "Wwbp5rpfavFS",
        "colab_type": "code",
        "colab": {}
      },
      "source": [
        "df_pred = pd.DataFrame(columns=test_columns)\n",
        "test_accuracy = 0\n",
        "test_accuracy_top5 = 0\n",
        "test_accuracy_top10 = 0"
      ],
      "execution_count": 0,
      "outputs": []
    },
    {
      "cell_type": "code",
      "metadata": {
        "id": "BG39egQ6avFU",
        "colab_type": "code",
        "colab": {}
      },
      "source": [
        "for i in range(len(test_pred)):\n",
        "    temp = np.argpartition(test_pred[i], -10)[-10:]\n",
        "    #Calculate Accuracies\n",
        "    if(y_test[i] in temp):\n",
        "        test_accuracy_top10+=1\n",
        "        if(y_test[i] in temp[0:5]):\n",
        "            test_accuracy_top5+=1\n",
        "            if(y_test[i] == temp[0]):\n",
        "                test_accuracy+=1\n",
        "    row = {}\n",
        "    row['sentence'] = seq_test[i][:-1]\n",
        "    row['ground_truth'] = inverse_word_map[y_test[i]]\n",
        "    for j in range(len(temp)):\n",
        "        row['pred_'+str(j+1)] = inverse_word_map[temp[j]]\n",
        "    df_pred = df_pred.append(row , ignore_index=True)"
      ],
      "execution_count": 0,
      "outputs": []
    },
    {
      "cell_type": "code",
      "metadata": {
        "id": "4TLfNpJQavFU",
        "colab_type": "code",
        "colab": {}
      },
      "source": [
        "df_pred.head(500)"
      ],
      "execution_count": 0,
      "outputs": []
    },
    {
      "cell_type": "code",
      "metadata": {
        "id": "BCdEt5fravFV",
        "colab_type": "code",
        "colab": {}
      },
      "source": [
        "test_accuracy = (test_accuracy/len(test_pred))*100\n",
        "test_accuracy_top5 = (test_accuracy_top5/len(test_pred))*100\n",
        "test_accuracy_top10 = (test_accuracy_top10/len(test_pred))*100"
      ],
      "execution_count": 0,
      "outputs": []
    },
    {
      "cell_type": "code",
      "metadata": {
        "id": "7eyFjyzGavFW",
        "colab_type": "code",
        "colab": {}
      },
      "source": [
        "print(\"test_accuracy=\", test_accuracy)\n",
        "print(\"test_accuracy_top5=\", test_accuracy_top5)\n",
        "print(\"test_accuracy_top10=\", test_accuracy_top10)"
      ],
      "execution_count": 0,
      "outputs": []
    },
    {
      "cell_type": "code",
      "metadata": {
        "id": "_Qxv4L1vavFZ",
        "colab_type": "code",
        "colab": {}
      },
      "source": [
        "# def generate_seq(model, tokenizer, max_length, seed_text, n_words):\n",
        "#     in_text = seed_text\n",
        "#     # generate a fixed number of words\n",
        "#     for _ in range(n_words):\n",
        "#         # encode the text as integer\n",
        "#         encoded = tokenizer.texts_to_sequences([in_text])[0]\n",
        "#         # pre-pad sequences to a fixed length\n",
        "#         encoded = pad_sequences([encoded], maxlen=max_length, padding='pre')\n",
        "#         # predict probabilities for each word\n",
        "#         yhat = model.predict_classes(encoded, verbose=0)\n",
        "#         # map predicted word index to word\n",
        "#         out_word = ''\n",
        "#         for word, index in tokenizer.word_index.items():\n",
        "#             if index == yhat:\n",
        "#                 out_word = word\n",
        "#                 break\n",
        "#         # append to input\n",
        "#         in_text += ' ' + out_word\n",
        "#     return in_text"
      ],
      "execution_count": 0,
      "outputs": []
    },
    {
      "cell_type": "code",
      "metadata": {
        "id": "yfyhZbX8avFZ",
        "colab_type": "code",
        "colab": {}
      },
      "source": [
        "# w2v_seq_train[0][0:seq_len]"
      ],
      "execution_count": 0,
      "outputs": []
    },
    {
      "cell_type": "code",
      "metadata": {
        "id": "4nhSPLUQavFb",
        "colab_type": "code",
        "colab": {}
      },
      "source": [
        "# w2v_seq_train[0][seq_len]"
      ],
      "execution_count": 0,
      "outputs": []
    },
    {
      "cell_type": "code",
      "metadata": {
        "id": "Pr5fGhhjavFb",
        "colab_type": "code",
        "outputId": "ee1e188f-e1ba-41f0-cf49-c49f5a28f5b5",
        "colab": {
          "base_uri": "https://localhost:8080/",
          "height": 162
        }
      },
      "source": [
        "# history.history"
      ],
      "execution_count": 0,
      "outputs": [
        {
          "output_type": "error",
          "ename": "NameError",
          "evalue": "ignored",
          "traceback": [
            "\u001b[0;31m---------------------------------------------------------------------------\u001b[0m",
            "\u001b[0;31mNameError\u001b[0m                                 Traceback (most recent call last)",
            "\u001b[0;32m<ipython-input-63-6cd13d6a221b>\u001b[0m in \u001b[0;36m<module>\u001b[0;34m()\u001b[0m\n\u001b[0;32m----> 1\u001b[0;31m \u001b[0mhistory\u001b[0m\u001b[0;34m.\u001b[0m\u001b[0mhistory\u001b[0m\u001b[0;34m\u001b[0m\u001b[0;34m\u001b[0m\u001b[0m\n\u001b[0m",
            "\u001b[0;31mNameError\u001b[0m: name 'history' is not defined"
          ]
        }
      ]
    },
    {
      "cell_type": "code",
      "metadata": {
        "id": "H-JsZuv1avFc",
        "colab_type": "code",
        "outputId": "684b5df3-8e4a-4de3-fc96-7c3860feef8e",
        "colab": {
          "base_uri": "https://localhost:8080/",
          "height": 34
        }
      },
      "source": [
        "history['loss'][-1]"
      ],
      "execution_count": 0,
      "outputs": [
        {
          "output_type": "execute_result",
          "data": {
            "text/plain": [
              "4.326187695043071"
            ]
          },
          "metadata": {
            "tags": []
          },
          "execution_count": 4
        }
      ]
    },
    {
      "cell_type": "code",
      "metadata": {
        "id": "F1tLyFhZavFc",
        "colab_type": "code",
        "outputId": "1f750ba9-1d31-4e32-9f4f-9116f0ff5043",
        "colab": {
          "base_uri": "https://localhost:8080/",
          "height": 34
        }
      },
      "source": [
        "history['acc'][-1]"
      ],
      "execution_count": 0,
      "outputs": [
        {
          "output_type": "execute_result",
          "data": {
            "text/plain": [
              "0.28420186"
            ]
          },
          "metadata": {
            "tags": []
          },
          "execution_count": 5
        }
      ]
    },
    {
      "cell_type": "code",
      "metadata": {
        "id": "nU7cEC60avFd",
        "colab_type": "code",
        "outputId": "f6ae8a76-b76f-4d20-eeca-5a309bca0945",
        "colab": {
          "base_uri": "https://localhost:8080/",
          "height": 34
        }
      },
      "source": [
        "history['val_loss'][-1]"
      ],
      "execution_count": 0,
      "outputs": [
        {
          "output_type": "execute_result",
          "data": {
            "text/plain": [
              "5.23205954687936"
            ]
          },
          "metadata": {
            "tags": []
          },
          "execution_count": 6
        }
      ]
    },
    {
      "cell_type": "code",
      "metadata": {
        "id": "WxLzImTWavFe",
        "colab_type": "code",
        "outputId": "1e61cbf2-92ea-4011-9821-885397054061",
        "colab": {
          "base_uri": "https://localhost:8080/",
          "height": 34
        }
      },
      "source": [
        "history['val_acc'][-1]"
      ],
      "execution_count": 0,
      "outputs": [
        {
          "output_type": "execute_result",
          "data": {
            "text/plain": [
              "0.19959919"
            ]
          },
          "metadata": {
            "tags": []
          },
          "execution_count": 7
        }
      ]
    },
    {
      "cell_type": "code",
      "metadata": {
        "id": "TbChREoKavFe",
        "colab_type": "code",
        "outputId": "2ab40f08-1d01-40bb-bb17-9bf537eb8274",
        "colab": {
          "base_uri": "https://localhost:8080/",
          "height": 34
        }
      },
      "source": [
        "history['perplexity'][-1]"
      ],
      "execution_count": 0,
      "outputs": [
        {
          "output_type": "execute_result",
          "data": {
            "text/plain": [
              "300.12457"
            ]
          },
          "metadata": {
            "tags": []
          },
          "execution_count": 10
        }
      ]
    },
    {
      "cell_type": "code",
      "metadata": {
        "id": "1iuSYrxDavFf",
        "colab_type": "code",
        "outputId": "03e8f9c1-8fec-493e-ea61-010fbbb6441d",
        "colab": {
          "base_uri": "https://localhost:8080/",
          "height": 34
        }
      },
      "source": [
        "history['val_perplexity'][-1]"
      ],
      "execution_count": 0,
      "outputs": [
        {
          "output_type": "execute_result",
          "data": {
            "text/plain": [
              "498.2344"
            ]
          },
          "metadata": {
            "tags": []
          },
          "execution_count": 11
        }
      ]
    },
    {
      "cell_type": "code",
      "metadata": {
        "id": "dKGdhW7w31Fi",
        "colab_type": "code",
        "outputId": "cda11b2c-c4c6-472e-f715-5be7ac50e614",
        "colab": {
          "base_uri": "https://localhost:8080/",
          "height": 295
        }
      },
      "source": [
        "from matplotlib import pyplot as plt\n",
        "\n",
        "plt.plot(history['acc'])\n",
        "plt.plot(history['val_acc'])\n",
        "plt.title('model accuracy')\n",
        "plt.ylabel('accuracy')\n",
        "plt.xlabel('epoch')\n",
        "plt.legend(['train', 'val'], loc='upper left')\n",
        "plt.show()"
      ],
      "execution_count": 0,
      "outputs": [
        {
          "output_type": "display_data",
          "data": {
            "image/png": "[encoded data removed]",
            "text/plain": [
              "<Figure size 432x288 with 1 Axes>"
            ]
          },
          "metadata": {
            "tags": []
          }
        }
      ]
    },
    {
      "cell_type": "code",
      "metadata": {
        "id": "k0e1i8Pm4H7u",
        "colab_type": "code",
        "outputId": "882ddc01-9650-498c-d2b8-1f4309cf5779",
        "colab": {
          "base_uri": "https://localhost:8080/",
          "height": 295
        }
      },
      "source": [
        "from matplotlib import pyplot as plt\n",
        "\n",
        "plt.plot(history['loss'])\n",
        "plt.plot(history['val_loss'])\n",
        "plt.title('model loss')\n",
        "plt.ylabel('loss')\n",
        "plt.xlabel('epoch')\n",
        "plt.legend(['train', 'val'], loc='upper left')\n",
        "plt.show()"
      ],
      "execution_count": 0,
      "outputs": [
        {
          "output_type": "display_data",
          "data": {
            "image/png": "[encoded data removed]",
            "text/plain": [
              "<Figure size 432x288 with 1 Axes>"
            ]
          },
          "metadata": {
            "tags": []
          }
        }
      ]
    },
    {
      "cell_type": "code",
      "metadata": {
        "id": "pMC-iGT84IoK",
        "colab_type": "code",
        "outputId": "717e7340-bb81-4275-fbaa-ea3acdad0c84",
        "colab": {
          "base_uri": "https://localhost:8080/",
          "height": 295
        }
      },
      "source": [
        "from matplotlib import pyplot as plt\n",
        "\n",
        "plt.plot(history['perplexity'])\n",
        "plt.plot(history['val_perplexity'])\n",
        "plt.title('model perplexity')\n",
        "plt.ylabel('perplexity')\n",
        "plt.xlabel('epoch')\n",
        "plt.legend(['train', 'val'], loc='upper left')\n",
        "plt.show()"
      ],
      "execution_count": 0,
      "outputs": [
        {
          "output_type": "display_data",
          "data": {
            "image/png": "[encoded data removed]",
            "text/plain": [
              "<Figure size 432x288 with 1 Axes>"
            ]
          },
          "metadata": {
            "tags": []
          }
        }
      ]
    },
    {
      "cell_type": "code",
      "metadata": {
        "id": "jMe4OFXt4VbM",
        "colab_type": "code",
        "outputId": "124cf440-7dfd-4772-b27b-b49427d6139a",
        "colab": {
          "base_uri": "https://localhost:8080/",
          "height": 295
        }
      },
      "source": [
        "from matplotlib import pyplot as plt\n",
        "\n",
        "plt.plot(history['val_acc'])\n",
        "plt.plot(history['val_perplexity'])\n",
        "plt.title('model accuracy perplexity')\n",
        "plt.ylabel('acc/perplexity')\n",
        "plt.xlabel('epoch')\n",
        "plt.legend(['accuracy', 'perplexity'], loc='upper left')\n",
        "plt.show()"
      ],
      "execution_count": 0,
      "outputs": [
        {
          "output_type": "display_data",
          "data": {
            "image/png": "[encoded data removed]",
            "text/plain": [
              "<Figure size 432x288 with 1 Axes>"
            ]
          },
          "metadata": {
            "tags": []
          }
        }
      ]
    },
    {
      "cell_type": "code",
      "metadata": {
        "id": "JoHIET0VavFg",
        "colab_type": "code",
        "colab": {}
      },
      "source": [
        "# data = \"\"\" Jack and Jill went up the hill\\n\n",
        "# To fetch a pail of water\\n\n",
        "# Jack fell down and broke his crown\\n\n",
        "# And Jill came tumbling after\\n \"\"\"\n",
        "# # integer encode sequences of words\n",
        "# tokenizer = Tokenizer()\n",
        "# tokenizer.fit_on_texts([data])\n",
        "# encoded = tokenizer.texts_to_sequences([data])[0]"
      ],
      "execution_count": 0,
      "outputs": []
    },
    {
      "cell_type": "code",
      "metadata": {
        "id": "d7KZ5UAAavFh",
        "colab_type": "code",
        "colab": {}
      },
      "source": [
        "\n",
        "# vocab_size = len(tokenizer.word_index) + 1\n",
        "# print('Vocabulary Size: %d' % vocab_size)\n",
        "# # create line-based sequences\n",
        "# sequences = list()\n",
        "# for line in data.split('\\n'):\n",
        "#     encoded = tokenizer.texts_to_sequences([line])[0]\n",
        "#     for i in range(1, len(encoded)):\n",
        "#         sequence = encoded[:i+1]\n",
        "#         sequences.append(sequence)\n",
        "\n",
        "# print('Total Sequences: %d' % len(sequences))"
      ],
      "execution_count": 0,
      "outputs": []
    },
    {
      "cell_type": "code",
      "metadata": {
        "id": "UN0M1Qa9avFi",
        "colab_type": "code",
        "colab": {}
      },
      "source": [
        "# sequences"
      ],
      "execution_count": 0,
      "outputs": []
    },
    {
      "cell_type": "code",
      "metadata": {
        "id": "QwX5CW6NavFk",
        "colab_type": "code",
        "colab": {}
      },
      "source": [
        "# # pad input sequences\n",
        "# max_length = max([len(seq) for seq in sequences])\n",
        "# sequences = pad_sequences(sequences, maxlen=max_length, padding='pre')\n",
        "# print('Max Sequence Length: %d' % max_length)\n",
        "# # split into input and output elements\n",
        "# sequences = array(sequences)\n",
        "# X, y = sequences[:,:-1],sequences[:,-1]\n",
        "# y = to_categorical(y, num_classes=vocab_size)"
      ],
      "execution_count": 0,
      "outputs": []
    },
    {
      "cell_type": "code",
      "metadata": {
        "id": "Tnm-GIIlavFl",
        "colab_type": "code",
        "colab": {}
      },
      "source": [
        "# X"
      ],
      "execution_count": 0,
      "outputs": []
    },
    {
      "cell_type": "code",
      "metadata": {
        "id": "R2sSJ-PxavFl",
        "colab_type": "code",
        "colab": {}
      },
      "source": [
        "# y"
      ],
      "execution_count": 0,
      "outputs": []
    },
    {
      "cell_type": "code",
      "metadata": {
        "id": "87lI1JrAavFm",
        "colab_type": "code",
        "colab": {}
      },
      "source": [
        ""
      ],
      "execution_count": 0,
      "outputs": []
    },
    {
      "cell_type": "code",
      "metadata": {
        "id": "TeI7tKKpavFn",
        "colab_type": "code",
        "colab": {}
      },
      "source": [
        ""
      ],
      "execution_count": 0,
      "outputs": []
    }
  ]
}